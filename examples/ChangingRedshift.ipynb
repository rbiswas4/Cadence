{
 "cells": [
  {
   "cell_type": "code",
   "execution_count": 42,
   "metadata": {
    "collapsed": true
   },
   "outputs": [],
   "source": [
    "from copy import deepcopy\n",
    "import os\n",
    "import numpy as np\n",
    "import sncosmo"
   ]
  },
  {
   "cell_type": "code",
   "execution_count": 43,
   "metadata": {
    "collapsed": true
   },
   "outputs": [],
   "source": [
    "from LSSTmetrics import PerSNMetric\n",
    "import gedankenLSST"
   ]
  },
  {
   "cell_type": "code",
   "execution_count": 44,
   "metadata": {
    "collapsed": true
   },
   "outputs": [],
   "source": [
    "from lsst.sims.photUtils import BandpassDict"
   ]
  },
  {
   "cell_type": "code",
   "execution_count": 45,
   "metadata": {
    "collapsed": true
   },
   "outputs": [],
   "source": [
    "lsst_bp = BandpassDict.loadTotalBandpassesFromFiles()"
   ]
  },
  {
   "cell_type": "code",
   "execution_count": 46,
   "metadata": {
    "collapsed": false
   },
   "outputs": [],
   "source": [
    "dailyCadence = deepcopy(gedankenLSST.LSSTReq)"
   ]
  },
  {
   "cell_type": "code",
   "execution_count": 47,
   "metadata": {
    "collapsed": false
   },
   "outputs": [
    {
     "name": "stdout",
     "output_type": "stream",
     "text": [
      "u\n",
      "g\n",
      "r\n",
      "i\n",
      "z\n",
      "y\n"
     ]
    }
   ],
   "source": [
    "# sncosmo Bandpasses required for fitting\n",
    "throughputsdir = os.getenv('THROUGHPUTS_DIR')\n",
    "\n",
    "from astropy.units import Unit\n",
    "bandPassList = ['u', 'g', 'r', 'i', 'z', 'y']\n",
    "banddir = os.path.join(os.getenv('THROUGHPUTS_DIR'), 'baseline')\n",
    "\n",
    "for band in bandPassList:\n",
    "\n",
    "    # setup sncosmo bandpasses\n",
    "    bandfname = banddir + \"/total_\" + band + '.dat'\n",
    "\n",
    "\n",
    "    # register the LSST bands to the SNCosmo registry\n",
    "    # Not needed for LSST, but useful to compare independent codes\n",
    "    # Usually the next two lines can be merged,\n",
    "    # but there is an astropy bug currently which affects only OSX.\n",
    "    numpyband = np.loadtxt(bandfname)\n",
    "    print band\n",
    "    sncosmoband = sncosmo.Bandpass(wave=numpyband[:, 0],\n",
    "                                   trans=numpyband[:, 1],\n",
    "                                   wave_unit=Unit('nm'),\n",
    "                                   name=band)\n",
    "    sncosmo.registry.register(sncosmoband, force=True)"
   ]
  },
  {
   "cell_type": "code",
   "execution_count": 7,
   "metadata": {
    "collapsed": true
   },
   "outputs": [],
   "source": [
    "#Now create a set of observations at a particular ra, dec within a a time window\n",
    "observations = gedankenLSST.GSN_Obs(mjd_center=49570., \n",
    "                                    lsstrequirements=dailyCadence,\n",
    "                                    ra=58., dec=-27.,\n",
    "                                    timeWindow=[-30., 50.])"
   ]
  },
  {
   "cell_type": "markdown",
   "metadata": {},
   "source": [
    "##  PerSNMetric: obtaining the State"
   ]
  },
  {
   "cell_type": "code",
   "execution_count": 48,
   "metadata": {
    "collapsed": false
   },
   "outputs": [],
   "source": [
    "q = PerSNMetric(summarydf=observations.summary, t0=49570,  raCol='ra', decCol='dec', lsst_bp=lsst_bp)"
   ]
  },
  {
   "cell_type": "code",
   "execution_count": 51,
   "metadata": {
    "collapsed": false
   },
   "outputs": [
    {
     "name": "stdout",
     "output_type": "stream",
     "text": [
      "<SNObject at 0x1160a5950>\n",
      "source:\n",
      "  class      : SALT2Source\n",
      "  name       : 'salt2-extended'\n",
      "  version    : 1.0\n",
      "  phases     : [-20, .., 50] days\n",
      "  wavelengths: [300, .., 18000] Angstroms\n",
      "effect (name='host' frame='rest'):\n",
      "  class           : OD94Dust\n",
      "  wavelength range: [909.09, 33333.3] Angstroms\n",
      "effect (name='mw' frame='obs'):\n",
      "  class           : OD94Dust\n",
      "  wavelength range: [909.09, 33333.3] Angstroms\n",
      "parameters:\n",
      "  z       = 0.5\n",
      "  t0      = 49570.0\n",
      "  x0      = 1.0068661711630977e-05\n",
      "  x1      = 0.0\n",
      "  c       = 0.0\n",
      "  hostebv = 0.0\n",
      "  hostr_v = 3.1000000000000001\n",
      "  mwebv   = 0.0\n",
      "  mwr_v   = 3.1000000000000001\n"
     ]
    }
   ],
   "source": [
    "print q.SN"
   ]
  },
  {
   "cell_type": "code",
   "execution_count": 53,
   "metadata": {
    "collapsed": false
   },
   "outputs": [
    {
     "data": {
      "text/plain": [
       "{'MWE(B-V)': 0.053107433021068573,\n",
       " 'ModelSource': 'salt2-extended',\n",
       " '_dec': -27.0,\n",
       " '_ra': 58.0,\n",
       " 'c': 0.0,\n",
       " 'hostebv': 0.0,\n",
       " 'hostr_v': 3.1000000000000001,\n",
       " 'mwebv': 0.0,\n",
       " 'mwr_v': 3.1000000000000001,\n",
       " 't0': 49570.0,\n",
       " 'x0': 1.0068661711630977e-05,\n",
       " 'x1': 0.0,\n",
       " 'z': 0.5}"
      ]
     },
     "execution_count": 53,
     "metadata": {},
     "output_type": "execute_result"
    }
   ],
   "source": [
    "q.SN.SNstate"
   ]
  },
  {
   "cell_type": "code",
   "execution_count": 54,
   "metadata": {
    "collapsed": true
   },
   "outputs": [],
   "source": [
    "model = sncosmo.Model(source='salt2')"
   ]
  },
  {
   "cell_type": "code",
   "execution_count": 60,
   "metadata": {
    "collapsed": false
   },
   "outputs": [],
   "source": [
    "model.set(**q.SN.sncosmoParamDict(q.SN.SNstate, model))"
   ]
  },
  {
   "cell_type": "code",
   "execution_count": 63,
   "metadata": {
    "collapsed": true
   },
   "outputs": [],
   "source": [
    "snState = deepcopy(q.SN.SNstate)"
   ]
  },
  {
   "cell_type": "code",
   "execution_count": 62,
   "metadata": {
    "collapsed": false
   },
   "outputs": [],
   "source": [
    "model.set(z=0.7)\n",
    "model.set_source_peakabsmag(-19.5, 'bessellB', 'ab')"
   ]
  },
  {
   "cell_type": "code",
   "execution_count": 64,
   "metadata": {
    "collapsed": true
   },
   "outputs": [],
   "source": [
    "snState['z'] = model.get('z')"
   ]
  },
  {
   "cell_type": "code",
   "execution_count": 65,
   "metadata": {
    "collapsed": true
   },
   "outputs": [],
   "source": [
    "snState['x0'] = model.get('x0')"
   ]
  },
  {
   "cell_type": "code",
   "execution_count": 66,
   "metadata": {
    "collapsed": false
   },
   "outputs": [
    {
     "name": "stdout",
     "output_type": "stream",
     "text": [
      "{'c': 0.0, 'x1': 0.0, 'mwebv': 0.0, 'ModelSource': 'salt2-extended', '_dec': -27.0, 't0': 49570.0, '_ra': 58.0, 'hostebv': 0.0, 'mwr_v': 3.1000000000000001, 'x0': 5.3340892341685985e-06, 'z': 0.69999999999999996, 'hostr_v': 3.1000000000000001, 'MWE(B-V)': 0.053107433021068573}\n"
     ]
    }
   ],
   "source": [
    "print snState"
   ]
  },
  {
   "cell_type": "code",
   "execution_count": 67,
   "metadata": {
    "collapsed": true
   },
   "outputs": [],
   "source": [
    "newQM = PerSNMetric(summarydf=observations.summary, t0=49570,  raCol='ra', decCol='dec', lsst_bp=lsst_bp, snState=snState)"
   ]
  },
  {
   "cell_type": "code",
   "execution_count": 68,
   "metadata": {
    "collapsed": false
   },
   "outputs": [
    {
     "name": "stdout",
     "output_type": "stream",
     "text": [
      "{'c': 0.0, 'x1': 0.0, 'mwebv': 0.0, 'ModelSource': 'salt2-extended', '_dec': -27.0, 't0': 49570.0, '_ra': 58.0, 'hostebv': 0.0, 'mwr_v': 3.1000000000000001, 'x0': 5.3340892341685985e-06, 'z': 0.69999999999999996, 'hostr_v': 3.1000000000000001, 'MWE(B-V)': 0.053107433021068573}\n"
     ]
    }
   ],
   "source": [
    "print newQM.snState"
   ]
  },
  {
   "cell_type": "code",
   "execution_count": null,
   "metadata": {
    "collapsed": true
   },
   "outputs": [],
   "source": []
  }
 ],
 "metadata": {
  "kernelspec": {
   "display_name": "Python 2",
   "language": "python",
   "name": "python2"
  },
  "language_info": {
   "codemirror_mode": {
    "name": "ipython",
    "version": 2
   },
   "file_extension": ".py",
   "mimetype": "text/x-python",
   "name": "python",
   "nbconvert_exporter": "python",
   "pygments_lexer": "ipython2",
   "version": "2.7.11"
  }
 },
 "nbformat": 4,
 "nbformat_minor": 0
}
