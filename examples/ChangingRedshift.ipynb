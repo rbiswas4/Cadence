{
 "cells": [
  {
   "cell_type": "code",
   "execution_count": 1,
   "metadata": {
    "collapsed": true
   },
   "outputs": [],
   "source": [
    "from copy import deepcopy\n",
    "import os\n",
    "import numpy as np\n",
    "import sncosmo"
   ]
  },
  {
   "cell_type": "code",
   "execution_count": 11,
   "metadata": {
    "collapsed": true
   },
   "outputs": [],
   "source": [
    "%matplotlib inline\n",
    "import matplotlib.pyplot as plt"
   ]
  },
  {
   "cell_type": "code",
   "execution_count": 2,
   "metadata": {
    "collapsed": true
   },
   "outputs": [],
   "source": [
    "from LSSTmetrics import PerSNMetric\n",
    "import gedankenLSST"
   ]
  },
  {
   "cell_type": "code",
   "execution_count": 3,
   "metadata": {
    "collapsed": true
   },
   "outputs": [],
   "source": [
    "from lsst.sims.photUtils import BandpassDict"
   ]
  },
  {
   "cell_type": "code",
   "execution_count": 4,
   "metadata": {
    "collapsed": true
   },
   "outputs": [],
   "source": [
    "lsst_bp = BandpassDict.loadTotalBandpassesFromFiles()"
   ]
  },
  {
   "cell_type": "code",
   "execution_count": 5,
   "metadata": {
    "collapsed": false
   },
   "outputs": [],
   "source": [
    "dailyCadence = deepcopy(gedankenLSST.LSSTReq)"
   ]
  },
  {
   "cell_type": "code",
   "execution_count": 6,
   "metadata": {
    "collapsed": false
   },
   "outputs": [
    {
     "name": "stdout",
     "output_type": "stream",
     "text": [
      "u\n",
      "g\n",
      "r\n",
      "i\n",
      "z\n",
      "y\n"
     ]
    }
   ],
   "source": [
    "# sncosmo Bandpasses required for fitting\n",
    "throughputsdir = os.getenv('THROUGHPUTS_DIR')\n",
    "\n",
    "from astropy.units import Unit\n",
    "bandPassList = ['u', 'g', 'r', 'i', 'z', 'y']\n",
    "banddir = os.path.join(os.getenv('THROUGHPUTS_DIR'), 'baseline')\n",
    "\n",
    "for band in bandPassList:\n",
    "\n",
    "    # setup sncosmo bandpasses\n",
    "    bandfname = banddir + \"/total_\" + band + '.dat'\n",
    "\n",
    "\n",
    "    # register the LSST bands to the SNCosmo registry\n",
    "    # Not needed for LSST, but useful to compare independent codes\n",
    "    # Usually the next two lines can be merged,\n",
    "    # but there is an astropy bug currently which affects only OSX.\n",
    "    numpyband = np.loadtxt(bandfname)\n",
    "    print band\n",
    "    sncosmoband = sncosmo.Bandpass(wave=numpyband[:, 0],\n",
    "                                   trans=numpyband[:, 1],\n",
    "                                   wave_unit=Unit('nm'),\n",
    "                                   name=band)\n",
    "    sncosmo.registry.register(sncosmoband, force=True)"
   ]
  },
  {
   "cell_type": "code",
   "execution_count": 7,
   "metadata": {
    "collapsed": true
   },
   "outputs": [],
   "source": [
    "#Now create a set of observations at a particular ra, dec within a a time window\n",
    "observations = gedankenLSST.GSN_Obs(mjd_center=49570., \n",
    "                                    lsstrequirements=dailyCadence,\n",
    "                                    ra=58., dec=-27.,\n",
    "                                    timeWindow=[-30., 50.])"
   ]
  },
  {
   "cell_type": "markdown",
   "metadata": {},
   "source": [
    "##  PerSNMetric: obtaining the State"
   ]
  },
  {
   "cell_type": "code",
   "execution_count": 20,
   "metadata": {
    "collapsed": false
   },
   "outputs": [
    {
     "data": {
      "text/html": [
       "<div>\n",
       "<table border=\"1\" class=\"dataframe\">\n",
       "  <thead>\n",
       "    <tr style=\"text-align: right;\">\n",
       "      <th></th>\n",
       "      <th>expMJD</th>\n",
       "      <th>filter</th>\n",
       "      <th>ra</th>\n",
       "      <th>dec</th>\n",
       "      <th>fiveSigmaDepth</th>\n",
       "      <th>fieldID</th>\n",
       "      <th>night</th>\n",
       "    </tr>\n",
       "  </thead>\n",
       "  <tbody>\n",
       "    <tr>\n",
       "      <th>0</th>\n",
       "      <td>49540.000000</td>\n",
       "      <td>g</td>\n",
       "      <td>58</td>\n",
       "      <td>-27</td>\n",
       "      <td>25.0</td>\n",
       "      <td>1</td>\n",
       "      <td>49540</td>\n",
       "    </tr>\n",
       "    <tr>\n",
       "      <th>1</th>\n",
       "      <td>49566.666667</td>\n",
       "      <td>g</td>\n",
       "      <td>58</td>\n",
       "      <td>-27</td>\n",
       "      <td>25.0</td>\n",
       "      <td>1</td>\n",
       "      <td>49566</td>\n",
       "    </tr>\n",
       "    <tr>\n",
       "      <th>2</th>\n",
       "      <td>49593.333333</td>\n",
       "      <td>g</td>\n",
       "      <td>58</td>\n",
       "      <td>-27</td>\n",
       "      <td>25.0</td>\n",
       "      <td>1</td>\n",
       "      <td>49593</td>\n",
       "    </tr>\n",
       "    <tr>\n",
       "      <th>3</th>\n",
       "      <td>49540.000000</td>\n",
       "      <td>i</td>\n",
       "      <td>58</td>\n",
       "      <td>-27</td>\n",
       "      <td>24.0</td>\n",
       "      <td>1</td>\n",
       "      <td>49540</td>\n",
       "    </tr>\n",
       "    <tr>\n",
       "      <th>4</th>\n",
       "      <td>49556.000000</td>\n",
       "      <td>i</td>\n",
       "      <td>58</td>\n",
       "      <td>-27</td>\n",
       "      <td>24.0</td>\n",
       "      <td>1</td>\n",
       "      <td>49556</td>\n",
       "    </tr>\n",
       "    <tr>\n",
       "      <th>5</th>\n",
       "      <td>49572.000000</td>\n",
       "      <td>i</td>\n",
       "      <td>58</td>\n",
       "      <td>-27</td>\n",
       "      <td>24.0</td>\n",
       "      <td>1</td>\n",
       "      <td>49572</td>\n",
       "    </tr>\n",
       "    <tr>\n",
       "      <th>6</th>\n",
       "      <td>49588.000000</td>\n",
       "      <td>i</td>\n",
       "      <td>58</td>\n",
       "      <td>-27</td>\n",
       "      <td>24.0</td>\n",
       "      <td>1</td>\n",
       "      <td>49588</td>\n",
       "    </tr>\n",
       "    <tr>\n",
       "      <th>7</th>\n",
       "      <td>49604.000000</td>\n",
       "      <td>i</td>\n",
       "      <td>58</td>\n",
       "      <td>-27</td>\n",
       "      <td>24.0</td>\n",
       "      <td>1</td>\n",
       "      <td>49604</td>\n",
       "    </tr>\n",
       "    <tr>\n",
       "      <th>8</th>\n",
       "      <td>49540.000000</td>\n",
       "      <td>r</td>\n",
       "      <td>58</td>\n",
       "      <td>-27</td>\n",
       "      <td>24.7</td>\n",
       "      <td>1</td>\n",
       "      <td>49540</td>\n",
       "    </tr>\n",
       "    <tr>\n",
       "      <th>9</th>\n",
       "      <td>49556.000000</td>\n",
       "      <td>r</td>\n",
       "      <td>58</td>\n",
       "      <td>-27</td>\n",
       "      <td>24.7</td>\n",
       "      <td>1</td>\n",
       "      <td>49556</td>\n",
       "    </tr>\n",
       "    <tr>\n",
       "      <th>10</th>\n",
       "      <td>49572.000000</td>\n",
       "      <td>r</td>\n",
       "      <td>58</td>\n",
       "      <td>-27</td>\n",
       "      <td>24.7</td>\n",
       "      <td>1</td>\n",
       "      <td>49572</td>\n",
       "    </tr>\n",
       "    <tr>\n",
       "      <th>11</th>\n",
       "      <td>49588.000000</td>\n",
       "      <td>r</td>\n",
       "      <td>58</td>\n",
       "      <td>-27</td>\n",
       "      <td>24.7</td>\n",
       "      <td>1</td>\n",
       "      <td>49588</td>\n",
       "    </tr>\n",
       "    <tr>\n",
       "      <th>12</th>\n",
       "      <td>49604.000000</td>\n",
       "      <td>r</td>\n",
       "      <td>58</td>\n",
       "      <td>-27</td>\n",
       "      <td>24.7</td>\n",
       "      <td>1</td>\n",
       "      <td>49604</td>\n",
       "    </tr>\n",
       "    <tr>\n",
       "      <th>13</th>\n",
       "      <td>49540.000000</td>\n",
       "      <td>u</td>\n",
       "      <td>58</td>\n",
       "      <td>-27</td>\n",
       "      <td>23.9</td>\n",
       "      <td>1</td>\n",
       "      <td>49540</td>\n",
       "    </tr>\n",
       "    <tr>\n",
       "      <th>14</th>\n",
       "      <td>49580.000000</td>\n",
       "      <td>u</td>\n",
       "      <td>58</td>\n",
       "      <td>-27</td>\n",
       "      <td>23.9</td>\n",
       "      <td>1</td>\n",
       "      <td>49580</td>\n",
       "    </tr>\n",
       "    <tr>\n",
       "      <th>15</th>\n",
       "      <td>49540.000000</td>\n",
       "      <td>y</td>\n",
       "      <td>58</td>\n",
       "      <td>-27</td>\n",
       "      <td>22.1</td>\n",
       "      <td>1</td>\n",
       "      <td>49540</td>\n",
       "    </tr>\n",
       "    <tr>\n",
       "      <th>16</th>\n",
       "      <td>49556.000000</td>\n",
       "      <td>y</td>\n",
       "      <td>58</td>\n",
       "      <td>-27</td>\n",
       "      <td>22.1</td>\n",
       "      <td>1</td>\n",
       "      <td>49556</td>\n",
       "    </tr>\n",
       "    <tr>\n",
       "      <th>17</th>\n",
       "      <td>49572.000000</td>\n",
       "      <td>y</td>\n",
       "      <td>58</td>\n",
       "      <td>-27</td>\n",
       "      <td>22.1</td>\n",
       "      <td>1</td>\n",
       "      <td>49572</td>\n",
       "    </tr>\n",
       "    <tr>\n",
       "      <th>18</th>\n",
       "      <td>49588.000000</td>\n",
       "      <td>y</td>\n",
       "      <td>58</td>\n",
       "      <td>-27</td>\n",
       "      <td>22.1</td>\n",
       "      <td>1</td>\n",
       "      <td>49588</td>\n",
       "    </tr>\n",
       "    <tr>\n",
       "      <th>19</th>\n",
       "      <td>49604.000000</td>\n",
       "      <td>y</td>\n",
       "      <td>58</td>\n",
       "      <td>-27</td>\n",
       "      <td>22.1</td>\n",
       "      <td>1</td>\n",
       "      <td>49604</td>\n",
       "    </tr>\n",
       "    <tr>\n",
       "      <th>20</th>\n",
       "      <td>49540.000000</td>\n",
       "      <td>z</td>\n",
       "      <td>58</td>\n",
       "      <td>-27</td>\n",
       "      <td>23.3</td>\n",
       "      <td>1</td>\n",
       "      <td>49540</td>\n",
       "    </tr>\n",
       "    <tr>\n",
       "      <th>21</th>\n",
       "      <td>49556.000000</td>\n",
       "      <td>z</td>\n",
       "      <td>58</td>\n",
       "      <td>-27</td>\n",
       "      <td>23.3</td>\n",
       "      <td>1</td>\n",
       "      <td>49556</td>\n",
       "    </tr>\n",
       "    <tr>\n",
       "      <th>22</th>\n",
       "      <td>49572.000000</td>\n",
       "      <td>z</td>\n",
       "      <td>58</td>\n",
       "      <td>-27</td>\n",
       "      <td>23.3</td>\n",
       "      <td>1</td>\n",
       "      <td>49572</td>\n",
       "    </tr>\n",
       "    <tr>\n",
       "      <th>23</th>\n",
       "      <td>49588.000000</td>\n",
       "      <td>z</td>\n",
       "      <td>58</td>\n",
       "      <td>-27</td>\n",
       "      <td>23.3</td>\n",
       "      <td>1</td>\n",
       "      <td>49588</td>\n",
       "    </tr>\n",
       "    <tr>\n",
       "      <th>24</th>\n",
       "      <td>49604.000000</td>\n",
       "      <td>z</td>\n",
       "      <td>58</td>\n",
       "      <td>-27</td>\n",
       "      <td>23.3</td>\n",
       "      <td>1</td>\n",
       "      <td>49604</td>\n",
       "    </tr>\n",
       "  </tbody>\n",
       "</table>\n",
       "</div>"
      ],
      "text/plain": [
       "          expMJD filter  ra  dec  fiveSigmaDepth  fieldID  night\n",
       "0   49540.000000      g  58  -27            25.0        1  49540\n",
       "1   49566.666667      g  58  -27            25.0        1  49566\n",
       "2   49593.333333      g  58  -27            25.0        1  49593\n",
       "3   49540.000000      i  58  -27            24.0        1  49540\n",
       "4   49556.000000      i  58  -27            24.0        1  49556\n",
       "5   49572.000000      i  58  -27            24.0        1  49572\n",
       "6   49588.000000      i  58  -27            24.0        1  49588\n",
       "7   49604.000000      i  58  -27            24.0        1  49604\n",
       "8   49540.000000      r  58  -27            24.7        1  49540\n",
       "9   49556.000000      r  58  -27            24.7        1  49556\n",
       "10  49572.000000      r  58  -27            24.7        1  49572\n",
       "11  49588.000000      r  58  -27            24.7        1  49588\n",
       "12  49604.000000      r  58  -27            24.7        1  49604\n",
       "13  49540.000000      u  58  -27            23.9        1  49540\n",
       "14  49580.000000      u  58  -27            23.9        1  49580\n",
       "15  49540.000000      y  58  -27            22.1        1  49540\n",
       "16  49556.000000      y  58  -27            22.1        1  49556\n",
       "17  49572.000000      y  58  -27            22.1        1  49572\n",
       "18  49588.000000      y  58  -27            22.1        1  49588\n",
       "19  49604.000000      y  58  -27            22.1        1  49604\n",
       "20  49540.000000      z  58  -27            23.3        1  49540\n",
       "21  49556.000000      z  58  -27            23.3        1  49556\n",
       "22  49572.000000      z  58  -27            23.3        1  49572\n",
       "23  49588.000000      z  58  -27            23.3        1  49588\n",
       "24  49604.000000      z  58  -27            23.3        1  49604"
      ]
     },
     "execution_count": 20,
     "metadata": {},
     "output_type": "execute_result"
    }
   ],
   "source": [
    "observations.summary"
   ]
  },
  {
   "cell_type": "code",
   "execution_count": 21,
   "metadata": {
    "collapsed": false
   },
   "outputs": [],
   "source": [
    "q = PerSNMetric(summarydf=observations.summary, t0=49570,  raCol='ra', decCol='dec', lsst_bp=lsst_bp)"
   ]
  },
  {
   "cell_type": "code",
   "execution_count": 22,
   "metadata": {
    "collapsed": false
   },
   "outputs": [
    {
     "name": "stdout",
     "output_type": "stream",
     "text": [
      "<SNObject at 0x11e1034d0>\n",
      "source:\n",
      "  class      : SALT2Source\n",
      "  name       : 'salt2-extended'\n",
      "  version    : 1.0\n",
      "  phases     : [-20, .., 50] days\n",
      "  wavelengths: [300, .., 18000] Angstroms\n",
      "effect (name='host' frame='rest'):\n",
      "  class           : OD94Dust\n",
      "  wavelength range: [909.09, 33333.3] Angstroms\n",
      "effect (name='mw' frame='obs'):\n",
      "  class           : OD94Dust\n",
      "  wavelength range: [909.09, 33333.3] Angstroms\n",
      "parameters:\n",
      "  z       = 0.5\n",
      "  t0      = 49570.0\n",
      "  x0      = 1.0068661711630977e-05\n",
      "  x1      = 0.0\n",
      "  c       = 0.0\n",
      "  hostebv = 0.0\n",
      "  hostr_v = 3.1000000000000001\n",
      "  mwebv   = 0.0\n",
      "  mwr_v   = 3.1000000000000001\n"
     ]
    }
   ],
   "source": [
    "print q.SN"
   ]
  },
  {
   "cell_type": "code",
   "execution_count": 29,
   "metadata": {
    "collapsed": false
   },
   "outputs": [
    {
     "name": "stdout",
     "output_type": "stream",
     "text": [
      "(19, Index([u'expMJD', u'filter', u'ra', u'dec', u'fiveSigmaDepth', u'fieldID',\n",
      "       u'night'],\n",
      "      dtype='object'))\n"
     ]
    }
   ],
   "source": [
    "xx = q.lightcurve.copy()"
   ]
  },
  {
   "cell_type": "code",
   "execution_count": 36,
   "metadata": {
    "collapsed": false
   },
   "outputs": [],
   "source": [
    "xx['mag'] = -2.5 * np.log10(xx.flux)"
   ]
  },
  {
   "cell_type": "code",
   "execution_count": 41,
   "metadata": {
    "collapsed": false
   },
   "outputs": [
    {
     "name": "stdout",
     "output_type": "stream",
     "text": [
      "(19, Index([u'expMJD', u'filter', u'ra', u'dec', u'fiveSigmaDepth', u'fieldID',\n",
      "       u'night'],\n",
      "      dtype='object'))\n"
     ]
    },
    {
     "data": {
      "image/png": "[encoded data removed]",
      "text/plain": [
       "<matplotlib.figure.Figure at 0x12a767290>"
      ]
     },
     "execution_count": 41,
     "metadata": {},
     "output_type": "execute_result"
    },
    {
     "data": {
      "image/png": "[encoded data removed]",
      "text/plain": [
       "<matplotlib.figure.Figure at 0x12a767290>"
      ]
     },
     "metadata": {},
     "output_type": "display_data"
    }
   ],
   "source": [
    "q.lcplot()"
   ]
  },
  {
   "cell_type": "code",
   "execution_count": 40,
   "metadata": {
    "collapsed": false
   },
   "outputs": [
    {
     "data": {
      "text/html": [
       "<div>\n",
       "<table border=\"1\" class=\"dataframe\">\n",
       "  <thead>\n",
       "    <tr style=\"text-align: right;\">\n",
       "      <th></th>\n",
       "      <th>time</th>\n",
       "      <th>band</th>\n",
       "      <th>flux</th>\n",
       "      <th>fluxerr</th>\n",
       "      <th>zp</th>\n",
       "      <th>zpsys</th>\n",
       "      <th>SNR</th>\n",
       "      <th>fiveSigmaDepth</th>\n",
       "      <th>night</th>\n",
       "      <th>DetectionEfficiency</th>\n",
       "      <th>mag</th>\n",
       "    </tr>\n",
       "  </thead>\n",
       "  <tbody>\n",
       "    <tr>\n",
       "      <th>10</th>\n",
       "      <td>49572.000000</td>\n",
       "      <td>r</td>\n",
       "      <td>7.679149e-10</td>\n",
       "      <td>2.853260e-11</td>\n",
       "      <td>0</td>\n",
       "      <td>ab</td>\n",
       "      <td>26.913595</td>\n",
       "      <td>24.7</td>\n",
       "      <td>49572</td>\n",
       "      <td>NaN</td>\n",
       "      <td>22.786717</td>\n",
       "    </tr>\n",
       "    <tr>\n",
       "      <th>5</th>\n",
       "      <td>49572.000000</td>\n",
       "      <td>i</td>\n",
       "      <td>7.497263e-10</td>\n",
       "      <td>5.147598e-11</td>\n",
       "      <td>0</td>\n",
       "      <td>ab</td>\n",
       "      <td>14.564584</td>\n",
       "      <td>24.0</td>\n",
       "      <td>49572</td>\n",
       "      <td>NaN</td>\n",
       "      <td>22.812743</td>\n",
       "    </tr>\n",
       "    <tr>\n",
       "      <th>9</th>\n",
       "      <td>49556.000000</td>\n",
       "      <td>r</td>\n",
       "      <td>3.954332e-10</td>\n",
       "      <td>2.728428e-11</td>\n",
       "      <td>0</td>\n",
       "      <td>ab</td>\n",
       "      <td>14.493081</td>\n",
       "      <td>24.7</td>\n",
       "      <td>49556</td>\n",
       "      <td>NaN</td>\n",
       "      <td>23.507317</td>\n",
       "    </tr>\n",
       "    <tr>\n",
       "      <th>1</th>\n",
       "      <td>49566.666667</td>\n",
       "      <td>g</td>\n",
       "      <td>3.002238e-10</td>\n",
       "      <td>2.079144e-11</td>\n",
       "      <td>0</td>\n",
       "      <td>ab</td>\n",
       "      <td>14.439781</td>\n",
       "      <td>25.0</td>\n",
       "      <td>49566</td>\n",
       "      <td>NaN</td>\n",
       "      <td>23.806387</td>\n",
       "    </tr>\n",
       "    <tr>\n",
       "      <th>11</th>\n",
       "      <td>49588.000000</td>\n",
       "      <td>r</td>\n",
       "      <td>3.563275e-10</td>\n",
       "      <td>2.714989e-11</td>\n",
       "      <td>0</td>\n",
       "      <td>ab</td>\n",
       "      <td>13.124457</td>\n",
       "      <td>24.7</td>\n",
       "      <td>49588</td>\n",
       "      <td>NaN</td>\n",
       "      <td>23.620377</td>\n",
       "    </tr>\n",
       "    <tr>\n",
       "      <th>6</th>\n",
       "      <td>49588.000000</td>\n",
       "      <td>i</td>\n",
       "      <td>5.113908e-10</td>\n",
       "      <td>5.088777e-11</td>\n",
       "      <td>0</td>\n",
       "      <td>ab</td>\n",
       "      <td>10.049384</td>\n",
       "      <td>24.0</td>\n",
       "      <td>49588</td>\n",
       "      <td>NaN</td>\n",
       "      <td>23.228118</td>\n",
       "    </tr>\n",
       "    <tr>\n",
       "      <th>22</th>\n",
       "      <td>49572.000000</td>\n",
       "      <td>z</td>\n",
       "      <td>8.206990e-10</td>\n",
       "      <td>9.636801e-11</td>\n",
       "      <td>0</td>\n",
       "      <td>ab</td>\n",
       "      <td>8.516301</td>\n",
       "      <td>23.3</td>\n",
       "      <td>49572</td>\n",
       "      <td>NaN</td>\n",
       "      <td>22.714540</td>\n",
       "    </tr>\n",
       "    <tr>\n",
       "      <th>4</th>\n",
       "      <td>49556.000000</td>\n",
       "      <td>i</td>\n",
       "      <td>3.683476e-10</td>\n",
       "      <td>5.053145e-11</td>\n",
       "      <td>0</td>\n",
       "      <td>ab</td>\n",
       "      <td>7.289473</td>\n",
       "      <td>24.0</td>\n",
       "      <td>49556</td>\n",
       "      <td>NaN</td>\n",
       "      <td>23.584355</td>\n",
       "    </tr>\n",
       "    <tr>\n",
       "      <th>23</th>\n",
       "      <td>49588.000000</td>\n",
       "      <td>z</td>\n",
       "      <td>5.056733e-10</td>\n",
       "      <td>9.577693e-11</td>\n",
       "      <td>0</td>\n",
       "      <td>ab</td>\n",
       "      <td>5.279699</td>\n",
       "      <td>23.3</td>\n",
       "      <td>49588</td>\n",
       "      <td>NaN</td>\n",
       "      <td>23.240325</td>\n",
       "    </tr>\n",
       "    <tr>\n",
       "      <th>7</th>\n",
       "      <td>49604.000000</td>\n",
       "      <td>i</td>\n",
       "      <td>2.395472e-10</td>\n",
       "      <td>5.020845e-11</td>\n",
       "      <td>0</td>\n",
       "      <td>ab</td>\n",
       "      <td>4.771053</td>\n",
       "      <td>24.0</td>\n",
       "      <td>49604</td>\n",
       "      <td>NaN</td>\n",
       "      <td>24.051522</td>\n",
       "    </tr>\n",
       "    <tr>\n",
       "      <th>12</th>\n",
       "      <td>49604.000000</td>\n",
       "      <td>r</td>\n",
       "      <td>1.109986e-10</td>\n",
       "      <td>2.629115e-11</td>\n",
       "      <td>0</td>\n",
       "      <td>ab</td>\n",
       "      <td>4.221899</td>\n",
       "      <td>24.7</td>\n",
       "      <td>49604</td>\n",
       "      <td>NaN</td>\n",
       "      <td>24.886707</td>\n",
       "    </tr>\n",
       "    <tr>\n",
       "      <th>21</th>\n",
       "      <td>49556.000000</td>\n",
       "      <td>z</td>\n",
       "      <td>3.668968e-10</td>\n",
       "      <td>9.551538e-11</td>\n",
       "      <td>0</td>\n",
       "      <td>ab</td>\n",
       "      <td>3.841232</td>\n",
       "      <td>23.3</td>\n",
       "      <td>49556</td>\n",
       "      <td>NaN</td>\n",
       "      <td>23.588640</td>\n",
       "    </tr>\n",
       "    <tr>\n",
       "      <th>24</th>\n",
       "      <td>49604.000000</td>\n",
       "      <td>z</td>\n",
       "      <td>3.553415e-10</td>\n",
       "      <td>9.549357e-11</td>\n",
       "      <td>0</td>\n",
       "      <td>ab</td>\n",
       "      <td>3.721104</td>\n",
       "      <td>23.3</td>\n",
       "      <td>49604</td>\n",
       "      <td>NaN</td>\n",
       "      <td>23.623385</td>\n",
       "    </tr>\n",
       "    <tr>\n",
       "      <th>17</th>\n",
       "      <td>49572.000000</td>\n",
       "      <td>y</td>\n",
       "      <td>7.228037e-10</td>\n",
       "      <td>2.881209e-10</td>\n",
       "      <td>0</td>\n",
       "      <td>ab</td>\n",
       "      <td>2.508682</td>\n",
       "      <td>22.1</td>\n",
       "      <td>49572</td>\n",
       "      <td>NaN</td>\n",
       "      <td>22.852449</td>\n",
       "    </tr>\n",
       "    <tr>\n",
       "      <th>2</th>\n",
       "      <td>49593.333333</td>\n",
       "      <td>g</td>\n",
       "      <td>4.329964e-11</td>\n",
       "      <td>1.977012e-11</td>\n",
       "      <td>0</td>\n",
       "      <td>ab</td>\n",
       "      <td>2.190156</td>\n",
       "      <td>25.0</td>\n",
       "      <td>49593</td>\n",
       "      <td>NaN</td>\n",
       "      <td>25.908789</td>\n",
       "    </tr>\n",
       "    <tr>\n",
       "      <th>18</th>\n",
       "      <td>49588.000000</td>\n",
       "      <td>y</td>\n",
       "      <td>4.455435e-10</td>\n",
       "      <td>2.877490e-10</td>\n",
       "      <td>0</td>\n",
       "      <td>ab</td>\n",
       "      <td>1.548375</td>\n",
       "      <td>22.1</td>\n",
       "      <td>49588</td>\n",
       "      <td>NaN</td>\n",
       "      <td>23.377775</td>\n",
       "    </tr>\n",
       "    <tr>\n",
       "      <th>19</th>\n",
       "      <td>49604.000000</td>\n",
       "      <td>y</td>\n",
       "      <td>3.808466e-10</td>\n",
       "      <td>2.876621e-10</td>\n",
       "      <td>0</td>\n",
       "      <td>ab</td>\n",
       "      <td>1.323937</td>\n",
       "      <td>22.1</td>\n",
       "      <td>49604</td>\n",
       "      <td>NaN</td>\n",
       "      <td>23.548125</td>\n",
       "    </tr>\n",
       "    <tr>\n",
       "      <th>16</th>\n",
       "      <td>49556.000000</td>\n",
       "      <td>y</td>\n",
       "      <td>3.773608e-10</td>\n",
       "      <td>2.876575e-10</td>\n",
       "      <td>0</td>\n",
       "      <td>ab</td>\n",
       "      <td>1.311841</td>\n",
       "      <td>22.1</td>\n",
       "      <td>49556</td>\n",
       "      <td>NaN</td>\n",
       "      <td>23.558108</td>\n",
       "    </tr>\n",
       "    <tr>\n",
       "      <th>14</th>\n",
       "      <td>49580.000000</td>\n",
       "      <td>u</td>\n",
       "      <td>2.977267e-12</td>\n",
       "      <td>5.283039e-11</td>\n",
       "      <td>0</td>\n",
       "      <td>ab</td>\n",
       "      <td>0.056355</td>\n",
       "      <td>23.9</td>\n",
       "      <td>49580</td>\n",
       "      <td>NaN</td>\n",
       "      <td>28.815456</td>\n",
       "    </tr>\n",
       "  </tbody>\n",
       "</table>\n",
       "</div>"
      ],
      "text/plain": [
       "            time band          flux       fluxerr  zp zpsys        SNR  \\\n",
       "10  49572.000000    r  7.679149e-10  2.853260e-11   0    ab  26.913595   \n",
       "5   49572.000000    i  7.497263e-10  5.147598e-11   0    ab  14.564584   \n",
       "9   49556.000000    r  3.954332e-10  2.728428e-11   0    ab  14.493081   \n",
       "1   49566.666667    g  3.002238e-10  2.079144e-11   0    ab  14.439781   \n",
       "11  49588.000000    r  3.563275e-10  2.714989e-11   0    ab  13.124457   \n",
       "6   49588.000000    i  5.113908e-10  5.088777e-11   0    ab  10.049384   \n",
       "22  49572.000000    z  8.206990e-10  9.636801e-11   0    ab   8.516301   \n",
       "4   49556.000000    i  3.683476e-10  5.053145e-11   0    ab   7.289473   \n",
       "23  49588.000000    z  5.056733e-10  9.577693e-11   0    ab   5.279699   \n",
       "7   49604.000000    i  2.395472e-10  5.020845e-11   0    ab   4.771053   \n",
       "12  49604.000000    r  1.109986e-10  2.629115e-11   0    ab   4.221899   \n",
       "21  49556.000000    z  3.668968e-10  9.551538e-11   0    ab   3.841232   \n",
       "24  49604.000000    z  3.553415e-10  9.549357e-11   0    ab   3.721104   \n",
       "17  49572.000000    y  7.228037e-10  2.881209e-10   0    ab   2.508682   \n",
       "2   49593.333333    g  4.329964e-11  1.977012e-11   0    ab   2.190156   \n",
       "18  49588.000000    y  4.455435e-10  2.877490e-10   0    ab   1.548375   \n",
       "19  49604.000000    y  3.808466e-10  2.876621e-10   0    ab   1.323937   \n",
       "16  49556.000000    y  3.773608e-10  2.876575e-10   0    ab   1.311841   \n",
       "14  49580.000000    u  2.977267e-12  5.283039e-11   0    ab   0.056355   \n",
       "\n",
       "    fiveSigmaDepth  night  DetectionEfficiency        mag  \n",
       "10            24.7  49572                  NaN  22.786717  \n",
       "5             24.0  49572                  NaN  22.812743  \n",
       "9             24.7  49556                  NaN  23.507317  \n",
       "1             25.0  49566                  NaN  23.806387  \n",
       "11            24.7  49588                  NaN  23.620377  \n",
       "6             24.0  49588                  NaN  23.228118  \n",
       "22            23.3  49572                  NaN  22.714540  \n",
       "4             24.0  49556                  NaN  23.584355  \n",
       "23            23.3  49588                  NaN  23.240325  \n",
       "7             24.0  49604                  NaN  24.051522  \n",
       "12            24.7  49604                  NaN  24.886707  \n",
       "21            23.3  49556                  NaN  23.588640  \n",
       "24            23.3  49604                  NaN  23.623385  \n",
       "17            22.1  49572                  NaN  22.852449  \n",
       "2             25.0  49593                  NaN  25.908789  \n",
       "18            22.1  49588                  NaN  23.377775  \n",
       "19            22.1  49604                  NaN  23.548125  \n",
       "16            22.1  49556                  NaN  23.558108  \n",
       "14            23.9  49580                  NaN  28.815456  "
      ]
     },
     "execution_count": 40,
     "metadata": {},
     "output_type": "execute_result"
    }
   ],
   "source": [
    "xx"
   ]
  },
  {
   "cell_type": "code",
   "execution_count": 34,
   "metadata": {
    "collapsed": false
   },
   "outputs": [
    {
     "data": {
      "text/html": [
       "<div>\n",
       "<table border=\"1\" class=\"dataframe\">\n",
       "  <thead>\n",
       "    <tr style=\"text-align: right;\">\n",
       "      <th></th>\n",
       "      <th>time</th>\n",
       "      <th>band</th>\n",
       "      <th>flux</th>\n",
       "      <th>fluxerr</th>\n",
       "      <th>zp</th>\n",
       "      <th>zpsys</th>\n",
       "      <th>SNR</th>\n",
       "      <th>fiveSigmaDepth</th>\n",
       "      <th>night</th>\n",
       "      <th>DetectionEfficiency</th>\n",
       "      <th>mag</th>\n",
       "    </tr>\n",
       "  </thead>\n",
       "  <tbody>\n",
       "    <tr>\n",
       "      <th>10</th>\n",
       "      <td>49572</td>\n",
       "      <td>r</td>\n",
       "      <td>7.679149e-10</td>\n",
       "      <td>2.853260e-11</td>\n",
       "      <td>0</td>\n",
       "      <td>ab</td>\n",
       "      <td>26.913595</td>\n",
       "      <td>24.7</td>\n",
       "      <td>49572</td>\n",
       "      <td>NaN</td>\n",
       "      <td>NaN</td>\n",
       "    </tr>\n",
       "    <tr>\n",
       "      <th>9</th>\n",
       "      <td>49556</td>\n",
       "      <td>r</td>\n",
       "      <td>3.954332e-10</td>\n",
       "      <td>2.728428e-11</td>\n",
       "      <td>0</td>\n",
       "      <td>ab</td>\n",
       "      <td>14.493081</td>\n",
       "      <td>24.7</td>\n",
       "      <td>49556</td>\n",
       "      <td>NaN</td>\n",
       "      <td>NaN</td>\n",
       "    </tr>\n",
       "    <tr>\n",
       "      <th>11</th>\n",
       "      <td>49588</td>\n",
       "      <td>r</td>\n",
       "      <td>3.563275e-10</td>\n",
       "      <td>2.714989e-11</td>\n",
       "      <td>0</td>\n",
       "      <td>ab</td>\n",
       "      <td>13.124457</td>\n",
       "      <td>24.7</td>\n",
       "      <td>49588</td>\n",
       "      <td>NaN</td>\n",
       "      <td>NaN</td>\n",
       "    </tr>\n",
       "    <tr>\n",
       "      <th>12</th>\n",
       "      <td>49604</td>\n",
       "      <td>r</td>\n",
       "      <td>1.109986e-10</td>\n",
       "      <td>2.629115e-11</td>\n",
       "      <td>0</td>\n",
       "      <td>ab</td>\n",
       "      <td>4.221899</td>\n",
       "      <td>24.7</td>\n",
       "      <td>49604</td>\n",
       "      <td>NaN</td>\n",
       "      <td>NaN</td>\n",
       "    </tr>\n",
       "  </tbody>\n",
       "</table>\n",
       "</div>"
      ],
      "text/plain": [
       "     time band          flux       fluxerr  zp zpsys        SNR  \\\n",
       "10  49572    r  7.679149e-10  2.853260e-11   0    ab  26.913595   \n",
       "9   49556    r  3.954332e-10  2.728428e-11   0    ab  14.493081   \n",
       "11  49588    r  3.563275e-10  2.714989e-11   0    ab  13.124457   \n",
       "12  49604    r  1.109986e-10  2.629115e-11   0    ab   4.221899   \n",
       "\n",
       "    fiveSigmaDepth  night  DetectionEfficiency  mag  \n",
       "10            24.7  49572                  NaN  NaN  \n",
       "9             24.7  49556                  NaN  NaN  \n",
       "11            24.7  49588                  NaN  NaN  \n",
       "12            24.7  49604                  NaN  NaN  "
      ]
     },
     "execution_count": 34,
     "metadata": {},
     "output_type": "execute_result"
    }
   ],
   "source": [
    "xx.groupby('band').get_group('r')"
   ]
  },
  {
   "cell_type": "code",
   "execution_count": null,
   "metadata": {
    "collapsed": true
   },
   "outputs": [],
   "source": [
    "import opsimsummary as oss"
   ]
  },
  {
   "cell_type": "code",
   "execution_count": null,
   "metadata": {
    "collapsed": false
   },
   "outputs": [],
   "source": [
    "print(dir(oss))"
   ]
  },
  {
   "cell_type": "code",
   "execution_count": null,
   "metadata": {
    "collapsed": false
   },
   "outputs": [],
   "source": [
    "q.SN.SNstate"
   ]
  },
  {
   "cell_type": "code",
   "execution_count": null,
   "metadata": {
    "collapsed": true
   },
   "outputs": [],
   "source": [
    "model = sncosmo.Model(source='salt2')"
   ]
  },
  {
   "cell_type": "code",
   "execution_count": null,
   "metadata": {
    "collapsed": false
   },
   "outputs": [],
   "source": [
    "model.set(**q.SN.sncosmoParamDict(q.SN.SNstate, model))"
   ]
  },
  {
   "cell_type": "code",
   "execution_count": null,
   "metadata": {
    "collapsed": true
   },
   "outputs": [],
   "source": [
    "snState = deepcopy(q.SN.SNstate)"
   ]
  },
  {
   "cell_type": "code",
   "execution_count": null,
   "metadata": {
    "collapsed": false
   },
   "outputs": [],
   "source": [
    "model.set(z=0.7)\n",
    "model.set_source_peakabsmag(-19.5, 'bessellB', 'ab')"
   ]
  },
  {
   "cell_type": "code",
   "execution_count": null,
   "metadata": {
    "collapsed": true
   },
   "outputs": [],
   "source": [
    "snState['z'] = model.get('z')"
   ]
  },
  {
   "cell_type": "code",
   "execution_count": null,
   "metadata": {
    "collapsed": true
   },
   "outputs": [],
   "source": [
    "snState['x0'] = model.get('x0')"
   ]
  },
  {
   "cell_type": "code",
   "execution_count": null,
   "metadata": {
    "collapsed": false
   },
   "outputs": [],
   "source": [
    "print snState"
   ]
  },
  {
   "cell_type": "code",
   "execution_count": null,
   "metadata": {
    "collapsed": true
   },
   "outputs": [],
   "source": [
    "newQM = PerSNMetric(summarydf=observations.summary, t0=49570,  raCol='ra', decCol='dec', lsst_bp=lsst_bp, snState=snState)"
   ]
  },
  {
   "cell_type": "code",
   "execution_count": null,
   "metadata": {
    "collapsed": false
   },
   "outputs": [],
   "source": [
    "print newQM.snState"
   ]
  },
  {
   "cell_type": "code",
   "execution_count": null,
   "metadata": {
    "collapsed": true
   },
   "outputs": [],
   "source": []
  },
  {
   "cell_type": "code",
   "execution_count": null,
   "metadata": {
    "collapsed": true
   },
   "outputs": [],
   "source": []
  },
  {
   "cell_type": "code",
   "execution_count": null,
   "metadata": {
    "collapsed": true
   },
   "outputs": [],
   "source": []
  }
 ],
 "metadata": {
  "kernelspec": {
   "display_name": "Python 2",
   "language": "python",
   "name": "python2"
  },
  "language_info": {
   "codemirror_mode": {
    "name": "ipython",
    "version": 2
   },
   "file_extension": ".py",
   "mimetype": "text/x-python",
   "name": "python",
   "nbconvert_exporter": "python",
   "pygments_lexer": "ipython2",
   "version": "2.7.11"
  }
 },
 "nbformat": 4,
 "nbformat_minor": 0
}
