{
 "cells": [
  {
   "cell_type": "code",
   "execution_count": 1,
   "metadata": {
    "collapsed": true
   },
   "outputs": [],
   "source": [
    "import numpy as np\n",
    "import pandas as pd\n",
    "%matplotlib inline \n",
    "import matplotlib.pyplot as plt\n",
    "import os\n",
    "import numpy as np\n",
    "import copy"
   ]
  },
  {
   "cell_type": "code",
   "execution_count": 2,
   "metadata": {
    "collapsed": false
   },
   "outputs": [
    {
     "name": "stderr",
     "output_type": "stream",
     "text": [
      "/usr/local/manual/anaconda/lib/python2.7/site-packages/IPython/kernel/__init__.py:13: ShimWarning: The `IPython.kernel` package has been deprecated. You should import from ipykernel or jupyter_client instead.\n",
      "  \"You should import from ipykernel or jupyter_client instead.\", ShimWarning)\n"
     ]
    }
   ],
   "source": [
    "from OpSimSummary import summarize_opsim as oss\n",
    "import sncosmo"
   ]
  },
  {
   "cell_type": "code",
   "execution_count": 3,
   "metadata": {
    "collapsed": true
   },
   "outputs": [],
   "source": [
    "from metrics import PerSNMetric\n",
    "from efficiencyTable import EfficiencyTable"
   ]
  },
  {
   "cell_type": "code",
   "execution_count": 4,
   "metadata": {
    "collapsed": true
   },
   "outputs": [],
   "source": [
    "from lsst.sims.photUtils import BandpassDict"
   ]
  },
  {
   "cell_type": "code",
   "execution_count": 5,
   "metadata": {
    "collapsed": true
   },
   "outputs": [],
   "source": [
    "from lsst.sims.utils.coordinateTransformations import haversine"
   ]
  },
  {
   "cell_type": "code",
   "execution_count": 6,
   "metadata": {
    "collapsed": true
   },
   "outputs": [],
   "source": [
    "# Catsim bandpasses\n",
    "lsst_bp = BandpassDict.loadTotalBandpassesFromFiles()"
   ]
  },
  {
   "cell_type": "code",
   "execution_count": 7,
   "metadata": {
    "collapsed": false
   },
   "outputs": [
    {
     "name": "stdout",
     "output_type": "stream",
     "text": [
      "u\n",
      "g\n",
      "r\n",
      "i\n",
      "z\n",
      "y\n"
     ]
    }
   ],
   "source": [
    "# sncosmo Bandpasses required for fitting\n",
    "throughputsdir = os.getenv('THROUGHPUTS_DIR')\n",
    "\n",
    "from astropy.units import Unit\n",
    "bandPassList = ['u', 'g', 'r', 'i', 'z', 'y']\n",
    "banddir = os.path.join(os.getenv('THROUGHPUTS_DIR'), 'baseline')\n",
    "\n",
    "for band in bandPassList:\n",
    "\n",
    "    # setup sncosmo bandpasses\n",
    "    bandfname = banddir + \"/total_\" + band + '.dat'\n",
    "\n",
    "\n",
    "    # register the LSST bands to the SNCosmo registry\n",
    "    # Not needed for LSST, but useful to compare independent codes\n",
    "    # Usually the next two lines can be merged,\n",
    "    # but there is an astropy bug currently which affects only OSX.\n",
    "    numpyband = np.loadtxt(bandfname)\n",
    "    print band\n",
    "    sncosmoband = sncosmo.Bandpass(wave=numpyband[:, 0],\n",
    "                                   trans=numpyband[:, 1],\n",
    "                                   wave_unit=Unit('nm'),\n",
    "                                   name=band)\n",
    "    sncosmo.registry.register(sncosmoband, force=True)"
   ]
  },
  {
   "cell_type": "code",
   "execution_count": 8,
   "metadata": {
    "collapsed": true
   },
   "outputs": [],
   "source": [
    "import psops as testps"
   ]
  },
  {
   "cell_type": "code",
   "execution_count": 9,
   "metadata": {
    "collapsed": true
   },
   "outputs": [],
   "source": [
    "lsstReq = testps.LSSTReq"
   ]
  },
  {
   "cell_type": "code",
   "execution_count": 10,
   "metadata": {
    "collapsed": false
   },
   "outputs": [],
   "source": [
    "x = testps.LSST_Obs(mjd_center=49540, lsstrequirements=lsstReq)"
   ]
  },
  {
   "cell_type": "code",
   "execution_count": 11,
   "metadata": {
    "collapsed": false
   },
   "outputs": [
    {
     "data": {
      "text/plain": [
       "u    1\n",
       "g    1\n",
       "r    1\n",
       "i    1\n",
       "z    1\n",
       "y    1\n",
       "dtype: float64"
      ]
     },
     "execution_count": 11,
     "metadata": {},
     "output_type": "execute_result"
    }
   ],
   "source": [
    "x.bumpFactors"
   ]
  },
  {
   "cell_type": "code",
   "execution_count": 12,
   "metadata": {
    "collapsed": true
   },
   "outputs": [],
   "source": [
    "lc = x.obsValues()"
   ]
  },
  {
   "cell_type": "code",
   "execution_count": 13,
   "metadata": {
    "collapsed": false
   },
   "outputs": [
    {
     "data": {
      "text/html": [
       "<div>\n",
       "<table border=\"1\" class=\"dataframe\">\n",
       "  <thead>\n",
       "    <tr style=\"text-align: right;\">\n",
       "      <th></th>\n",
       "      <th>expMJD</th>\n",
       "      <th>filter</th>\n",
       "      <th>ra</th>\n",
       "      <th>dec</th>\n",
       "      <th>fiveSigmaDepth</th>\n",
       "      <th>fieldID</th>\n",
       "      <th>night</th>\n",
       "    </tr>\n",
       "  </thead>\n",
       "  <tbody>\n",
       "    <tr>\n",
       "      <th>0</th>\n",
       "      <td>49510.000000</td>\n",
       "      <td>g</td>\n",
       "      <td>0</td>\n",
       "      <td>0</td>\n",
       "      <td>25</td>\n",
       "      <td>1</td>\n",
       "      <td>49510</td>\n",
       "    </tr>\n",
       "    <tr>\n",
       "      <th>1</th>\n",
       "      <td>49536.666667</td>\n",
       "      <td>g</td>\n",
       "      <td>0</td>\n",
       "      <td>0</td>\n",
       "      <td>25</td>\n",
       "      <td>1</td>\n",
       "      <td>49536</td>\n",
       "    </tr>\n",
       "    <tr>\n",
       "      <th>2</th>\n",
       "      <td>49563.333333</td>\n",
       "      <td>g</td>\n",
       "      <td>0</td>\n",
       "      <td>0</td>\n",
       "      <td>25</td>\n",
       "      <td>1</td>\n",
       "      <td>49563</td>\n",
       "    </tr>\n",
       "    <tr>\n",
       "      <th>3</th>\n",
       "      <td>49510.000000</td>\n",
       "      <td>i</td>\n",
       "      <td>0</td>\n",
       "      <td>0</td>\n",
       "      <td>24</td>\n",
       "      <td>1</td>\n",
       "      <td>49510</td>\n",
       "    </tr>\n",
       "    <tr>\n",
       "      <th>4</th>\n",
       "      <td>49526.000000</td>\n",
       "      <td>i</td>\n",
       "      <td>0</td>\n",
       "      <td>0</td>\n",
       "      <td>24</td>\n",
       "      <td>1</td>\n",
       "      <td>49526</td>\n",
       "    </tr>\n",
       "  </tbody>\n",
       "</table>\n",
       "</div>"
      ],
      "text/plain": [
       "         expMJD filter  ra  dec  fiveSigmaDepth  fieldID  night\n",
       "0  49510.000000      g   0    0              25        1  49510\n",
       "1  49536.666667      g   0    0              25        1  49536\n",
       "2  49563.333333      g   0    0              25        1  49563\n",
       "3  49510.000000      i   0    0              24        1  49510\n",
       "4  49526.000000      i   0    0              24        1  49526"
      ]
     },
     "execution_count": 13,
     "metadata": {},
     "output_type": "execute_result"
    }
   ],
   "source": [
    "lc.head()"
   ]
  },
  {
   "cell_type": "code",
   "execution_count": 14,
   "metadata": {
    "collapsed": false
   },
   "outputs": [],
   "source": [
    "q = PerSNMetric(summarydf=lc, t0=49540, raCol='ra', decCol='dec', lsst_bp=lsst_bp, fieldID=None)"
   ]
  },
  {
   "cell_type": "code",
   "execution_count": 15,
   "metadata": {
    "collapsed": false
   },
   "outputs": [
    {
     "data": {
      "text/plain": [
       "{'MWE(B-V)': 0.031526423990726471,\n",
       " 'ModelSource': 'salt2-extended',\n",
       " '_dec': 0.0,\n",
       " '_ra': 0.0,\n",
       " 'c': 0.0,\n",
       " 'hostebv': 0.0,\n",
       " 'hostr_v': 3.1000000000000001,\n",
       " 'mwebv': 0.0,\n",
       " 'mwr_v': 3.1000000000000001,\n",
       " 't0': 49540.0,\n",
       " 'x0': 1.0068661711630977e-05,\n",
       " 'x1': 0.0,\n",
       " 'z': 0.5}"
      ]
     },
     "execution_count": 15,
     "metadata": {},
     "output_type": "execute_result"
    }
   ],
   "source": [
    "q.SN.SNstate"
   ]
  },
  {
   "cell_type": "code",
   "execution_count": 16,
   "metadata": {
    "collapsed": false
   },
   "outputs": [
    {
     "data": {
      "text/html": [
       "<div>\n",
       "<table border=\"1\" class=\"dataframe\">\n",
       "  <thead>\n",
       "    <tr style=\"text-align: right;\">\n",
       "      <th></th>\n",
       "      <th>expMJD</th>\n",
       "      <th>filter</th>\n",
       "      <th>ra</th>\n",
       "      <th>dec</th>\n",
       "      <th>fiveSigmaDepth</th>\n",
       "      <th>fieldID</th>\n",
       "      <th>night</th>\n",
       "      <th>MJDay</th>\n",
       "    </tr>\n",
       "  </thead>\n",
       "  <tbody>\n",
       "    <tr>\n",
       "      <th>0</th>\n",
       "      <td>49510.000000</td>\n",
       "      <td>g</td>\n",
       "      <td>0</td>\n",
       "      <td>0</td>\n",
       "      <td>25.0</td>\n",
       "      <td>1</td>\n",
       "      <td>49510</td>\n",
       "      <td>49510</td>\n",
       "    </tr>\n",
       "    <tr>\n",
       "      <th>1</th>\n",
       "      <td>49536.666667</td>\n",
       "      <td>g</td>\n",
       "      <td>0</td>\n",
       "      <td>0</td>\n",
       "      <td>25.0</td>\n",
       "      <td>1</td>\n",
       "      <td>49536</td>\n",
       "      <td>49536</td>\n",
       "    </tr>\n",
       "    <tr>\n",
       "      <th>2</th>\n",
       "      <td>49563.333333</td>\n",
       "      <td>g</td>\n",
       "      <td>0</td>\n",
       "      <td>0</td>\n",
       "      <td>25.0</td>\n",
       "      <td>1</td>\n",
       "      <td>49563</td>\n",
       "      <td>49563</td>\n",
       "    </tr>\n",
       "    <tr>\n",
       "      <th>3</th>\n",
       "      <td>49510.000000</td>\n",
       "      <td>i</td>\n",
       "      <td>0</td>\n",
       "      <td>0</td>\n",
       "      <td>24.0</td>\n",
       "      <td>1</td>\n",
       "      <td>49510</td>\n",
       "      <td>49510</td>\n",
       "    </tr>\n",
       "    <tr>\n",
       "      <th>4</th>\n",
       "      <td>49526.000000</td>\n",
       "      <td>i</td>\n",
       "      <td>0</td>\n",
       "      <td>0</td>\n",
       "      <td>24.0</td>\n",
       "      <td>1</td>\n",
       "      <td>49526</td>\n",
       "      <td>49526</td>\n",
       "    </tr>\n",
       "    <tr>\n",
       "      <th>5</th>\n",
       "      <td>49542.000000</td>\n",
       "      <td>i</td>\n",
       "      <td>0</td>\n",
       "      <td>0</td>\n",
       "      <td>24.0</td>\n",
       "      <td>1</td>\n",
       "      <td>49542</td>\n",
       "      <td>49542</td>\n",
       "    </tr>\n",
       "    <tr>\n",
       "      <th>6</th>\n",
       "      <td>49558.000000</td>\n",
       "      <td>i</td>\n",
       "      <td>0</td>\n",
       "      <td>0</td>\n",
       "      <td>24.0</td>\n",
       "      <td>1</td>\n",
       "      <td>49558</td>\n",
       "      <td>49558</td>\n",
       "    </tr>\n",
       "    <tr>\n",
       "      <th>7</th>\n",
       "      <td>49574.000000</td>\n",
       "      <td>i</td>\n",
       "      <td>0</td>\n",
       "      <td>0</td>\n",
       "      <td>24.0</td>\n",
       "      <td>1</td>\n",
       "      <td>49574</td>\n",
       "      <td>49574</td>\n",
       "    </tr>\n",
       "    <tr>\n",
       "      <th>8</th>\n",
       "      <td>49510.000000</td>\n",
       "      <td>r</td>\n",
       "      <td>0</td>\n",
       "      <td>0</td>\n",
       "      <td>24.7</td>\n",
       "      <td>1</td>\n",
       "      <td>49510</td>\n",
       "      <td>49510</td>\n",
       "    </tr>\n",
       "    <tr>\n",
       "      <th>9</th>\n",
       "      <td>49526.000000</td>\n",
       "      <td>r</td>\n",
       "      <td>0</td>\n",
       "      <td>0</td>\n",
       "      <td>24.7</td>\n",
       "      <td>1</td>\n",
       "      <td>49526</td>\n",
       "      <td>49526</td>\n",
       "    </tr>\n",
       "    <tr>\n",
       "      <th>10</th>\n",
       "      <td>49542.000000</td>\n",
       "      <td>r</td>\n",
       "      <td>0</td>\n",
       "      <td>0</td>\n",
       "      <td>24.7</td>\n",
       "      <td>1</td>\n",
       "      <td>49542</td>\n",
       "      <td>49542</td>\n",
       "    </tr>\n",
       "    <tr>\n",
       "      <th>11</th>\n",
       "      <td>49558.000000</td>\n",
       "      <td>r</td>\n",
       "      <td>0</td>\n",
       "      <td>0</td>\n",
       "      <td>24.7</td>\n",
       "      <td>1</td>\n",
       "      <td>49558</td>\n",
       "      <td>49558</td>\n",
       "    </tr>\n",
       "    <tr>\n",
       "      <th>12</th>\n",
       "      <td>49574.000000</td>\n",
       "      <td>r</td>\n",
       "      <td>0</td>\n",
       "      <td>0</td>\n",
       "      <td>24.7</td>\n",
       "      <td>1</td>\n",
       "      <td>49574</td>\n",
       "      <td>49574</td>\n",
       "    </tr>\n",
       "    <tr>\n",
       "      <th>13</th>\n",
       "      <td>49510.000000</td>\n",
       "      <td>u</td>\n",
       "      <td>0</td>\n",
       "      <td>0</td>\n",
       "      <td>23.9</td>\n",
       "      <td>1</td>\n",
       "      <td>49510</td>\n",
       "      <td>49510</td>\n",
       "    </tr>\n",
       "    <tr>\n",
       "      <th>14</th>\n",
       "      <td>49550.000000</td>\n",
       "      <td>u</td>\n",
       "      <td>0</td>\n",
       "      <td>0</td>\n",
       "      <td>23.9</td>\n",
       "      <td>1</td>\n",
       "      <td>49550</td>\n",
       "      <td>49550</td>\n",
       "    </tr>\n",
       "    <tr>\n",
       "      <th>15</th>\n",
       "      <td>49510.000000</td>\n",
       "      <td>Y</td>\n",
       "      <td>0</td>\n",
       "      <td>0</td>\n",
       "      <td>22.1</td>\n",
       "      <td>1</td>\n",
       "      <td>49510</td>\n",
       "      <td>49510</td>\n",
       "    </tr>\n",
       "    <tr>\n",
       "      <th>16</th>\n",
       "      <td>49526.000000</td>\n",
       "      <td>Y</td>\n",
       "      <td>0</td>\n",
       "      <td>0</td>\n",
       "      <td>22.1</td>\n",
       "      <td>1</td>\n",
       "      <td>49526</td>\n",
       "      <td>49526</td>\n",
       "    </tr>\n",
       "    <tr>\n",
       "      <th>17</th>\n",
       "      <td>49542.000000</td>\n",
       "      <td>Y</td>\n",
       "      <td>0</td>\n",
       "      <td>0</td>\n",
       "      <td>22.1</td>\n",
       "      <td>1</td>\n",
       "      <td>49542</td>\n",
       "      <td>49542</td>\n",
       "    </tr>\n",
       "    <tr>\n",
       "      <th>18</th>\n",
       "      <td>49558.000000</td>\n",
       "      <td>Y</td>\n",
       "      <td>0</td>\n",
       "      <td>0</td>\n",
       "      <td>22.1</td>\n",
       "      <td>1</td>\n",
       "      <td>49558</td>\n",
       "      <td>49558</td>\n",
       "    </tr>\n",
       "    <tr>\n",
       "      <th>19</th>\n",
       "      <td>49574.000000</td>\n",
       "      <td>Y</td>\n",
       "      <td>0</td>\n",
       "      <td>0</td>\n",
       "      <td>22.1</td>\n",
       "      <td>1</td>\n",
       "      <td>49574</td>\n",
       "      <td>49574</td>\n",
       "    </tr>\n",
       "    <tr>\n",
       "      <th>20</th>\n",
       "      <td>49510.000000</td>\n",
       "      <td>z</td>\n",
       "      <td>0</td>\n",
       "      <td>0</td>\n",
       "      <td>23.3</td>\n",
       "      <td>1</td>\n",
       "      <td>49510</td>\n",
       "      <td>49510</td>\n",
       "    </tr>\n",
       "    <tr>\n",
       "      <th>21</th>\n",
       "      <td>49526.000000</td>\n",
       "      <td>z</td>\n",
       "      <td>0</td>\n",
       "      <td>0</td>\n",
       "      <td>23.3</td>\n",
       "      <td>1</td>\n",
       "      <td>49526</td>\n",
       "      <td>49526</td>\n",
       "    </tr>\n",
       "    <tr>\n",
       "      <th>22</th>\n",
       "      <td>49542.000000</td>\n",
       "      <td>z</td>\n",
       "      <td>0</td>\n",
       "      <td>0</td>\n",
       "      <td>23.3</td>\n",
       "      <td>1</td>\n",
       "      <td>49542</td>\n",
       "      <td>49542</td>\n",
       "    </tr>\n",
       "    <tr>\n",
       "      <th>23</th>\n",
       "      <td>49558.000000</td>\n",
       "      <td>z</td>\n",
       "      <td>0</td>\n",
       "      <td>0</td>\n",
       "      <td>23.3</td>\n",
       "      <td>1</td>\n",
       "      <td>49558</td>\n",
       "      <td>49558</td>\n",
       "    </tr>\n",
       "    <tr>\n",
       "      <th>24</th>\n",
       "      <td>49574.000000</td>\n",
       "      <td>z</td>\n",
       "      <td>0</td>\n",
       "      <td>0</td>\n",
       "      <td>23.3</td>\n",
       "      <td>1</td>\n",
       "      <td>49574</td>\n",
       "      <td>49574</td>\n",
       "    </tr>\n",
       "  </tbody>\n",
       "</table>\n",
       "</div>"
      ],
      "text/plain": [
       "          expMJD filter  ra  dec  fiveSigmaDepth  fieldID  night  MJDay\n",
       "0   49510.000000      g   0    0            25.0        1  49510  49510\n",
       "1   49536.666667      g   0    0            25.0        1  49536  49536\n",
       "2   49563.333333      g   0    0            25.0        1  49563  49563\n",
       "3   49510.000000      i   0    0            24.0        1  49510  49510\n",
       "4   49526.000000      i   0    0            24.0        1  49526  49526\n",
       "5   49542.000000      i   0    0            24.0        1  49542  49542\n",
       "6   49558.000000      i   0    0            24.0        1  49558  49558\n",
       "7   49574.000000      i   0    0            24.0        1  49574  49574\n",
       "8   49510.000000      r   0    0            24.7        1  49510  49510\n",
       "9   49526.000000      r   0    0            24.7        1  49526  49526\n",
       "10  49542.000000      r   0    0            24.7        1  49542  49542\n",
       "11  49558.000000      r   0    0            24.7        1  49558  49558\n",
       "12  49574.000000      r   0    0            24.7        1  49574  49574\n",
       "13  49510.000000      u   0    0            23.9        1  49510  49510\n",
       "14  49550.000000      u   0    0            23.9        1  49550  49550\n",
       "15  49510.000000      Y   0    0            22.1        1  49510  49510\n",
       "16  49526.000000      Y   0    0            22.1        1  49526  49526\n",
       "17  49542.000000      Y   0    0            22.1        1  49542  49542\n",
       "18  49558.000000      Y   0    0            22.1        1  49558  49558\n",
       "19  49574.000000      Y   0    0            22.1        1  49574  49574\n",
       "20  49510.000000      z   0    0            23.3        1  49510  49510\n",
       "21  49526.000000      z   0    0            23.3        1  49526  49526\n",
       "22  49542.000000      z   0    0            23.3        1  49542  49542\n",
       "23  49558.000000      z   0    0            23.3        1  49558  49558\n",
       "24  49574.000000      z   0    0            23.3        1  49574  49574"
      ]
     },
     "execution_count": 16,
     "metadata": {},
     "output_type": "execute_result"
    }
   ],
   "source": [
    "q.df"
   ]
  },
  {
   "cell_type": "code",
   "execution_count": 17,
   "metadata": {
    "collapsed": false
   },
   "outputs": [
    {
     "data": {
      "text/plain": [
       "<lsst.sims.photUtils.Bandpass.Bandpass instance at 0x114656e60>"
      ]
     },
     "execution_count": 17,
     "metadata": {},
     "output_type": "execute_result"
    }
   ],
   "source": [
    "q.lsst_bp['g']"
   ]
  },
  {
   "cell_type": "code",
   "execution_count": 18,
   "metadata": {
    "collapsed": true
   },
   "outputs": [],
   "source": [
    "qdf = q.df\n",
    "qdf['band'] = qdf['filter'].apply(lambda x: x.lower())"
   ]
  },
  {
   "cell_type": "code",
   "execution_count": 19,
   "metadata": {
    "collapsed": false
   },
   "outputs": [
    {
     "data": {
      "text/html": [
       "<div>\n",
       "<table border=\"1\" class=\"dataframe\">\n",
       "  <thead>\n",
       "    <tr style=\"text-align: right;\">\n",
       "      <th></th>\n",
       "      <th>expMJD</th>\n",
       "      <th>filter</th>\n",
       "      <th>ra</th>\n",
       "      <th>dec</th>\n",
       "      <th>fiveSigmaDepth</th>\n",
       "      <th>fieldID</th>\n",
       "      <th>night</th>\n",
       "      <th>MJDay</th>\n",
       "      <th>band</th>\n",
       "    </tr>\n",
       "  </thead>\n",
       "  <tbody>\n",
       "    <tr>\n",
       "      <th>0</th>\n",
       "      <td>49510.000000</td>\n",
       "      <td>g</td>\n",
       "      <td>0</td>\n",
       "      <td>0</td>\n",
       "      <td>25</td>\n",
       "      <td>1</td>\n",
       "      <td>49510</td>\n",
       "      <td>49510</td>\n",
       "      <td>g</td>\n",
       "    </tr>\n",
       "    <tr>\n",
       "      <th>1</th>\n",
       "      <td>49536.666667</td>\n",
       "      <td>g</td>\n",
       "      <td>0</td>\n",
       "      <td>0</td>\n",
       "      <td>25</td>\n",
       "      <td>1</td>\n",
       "      <td>49536</td>\n",
       "      <td>49536</td>\n",
       "      <td>g</td>\n",
       "    </tr>\n",
       "    <tr>\n",
       "      <th>2</th>\n",
       "      <td>49563.333333</td>\n",
       "      <td>g</td>\n",
       "      <td>0</td>\n",
       "      <td>0</td>\n",
       "      <td>25</td>\n",
       "      <td>1</td>\n",
       "      <td>49563</td>\n",
       "      <td>49563</td>\n",
       "      <td>g</td>\n",
       "    </tr>\n",
       "    <tr>\n",
       "      <th>3</th>\n",
       "      <td>49510.000000</td>\n",
       "      <td>i</td>\n",
       "      <td>0</td>\n",
       "      <td>0</td>\n",
       "      <td>24</td>\n",
       "      <td>1</td>\n",
       "      <td>49510</td>\n",
       "      <td>49510</td>\n",
       "      <td>i</td>\n",
       "    </tr>\n",
       "    <tr>\n",
       "      <th>4</th>\n",
       "      <td>49526.000000</td>\n",
       "      <td>i</td>\n",
       "      <td>0</td>\n",
       "      <td>0</td>\n",
       "      <td>24</td>\n",
       "      <td>1</td>\n",
       "      <td>49526</td>\n",
       "      <td>49526</td>\n",
       "      <td>i</td>\n",
       "    </tr>\n",
       "  </tbody>\n",
       "</table>\n",
       "</div>"
      ],
      "text/plain": [
       "         expMJD filter  ra  dec  fiveSigmaDepth  fieldID  night  MJDay band\n",
       "0  49510.000000      g   0    0              25        1  49510  49510    g\n",
       "1  49536.666667      g   0    0              25        1  49536  49536    g\n",
       "2  49563.333333      g   0    0              25        1  49563  49563    g\n",
       "3  49510.000000      i   0    0              24        1  49510  49510    i\n",
       "4  49526.000000      i   0    0              24        1  49526  49526    i"
      ]
     },
     "execution_count": 19,
     "metadata": {},
     "output_type": "execute_result"
    }
   ],
   "source": [
    "qdf.head()"
   ]
  },
  {
   "cell_type": "code",
   "execution_count": 20,
   "metadata": {
    "collapsed": false
   },
   "outputs": [],
   "source": [
    "qdf['flux'] = qdf.apply(lambda row: q.SN.catsimBandFluxes(row['expMJD'], \n",
    "                      q.lsst_bp[row['band']]), axis=1)"
   ]
  },
  {
   "cell_type": "code",
   "execution_count": 21,
   "metadata": {
    "collapsed": false
   },
   "outputs": [
    {
     "data": {
      "text/plain": [
       "array([  300. ,   300.1,   300.2, ...,  1149.8,  1149.9,  1150. ])"
      ]
     },
     "execution_count": 21,
     "metadata": {},
     "output_type": "execute_result"
    }
   ],
   "source": [
    "q.lsst_bp['g'].wavelen"
   ]
  },
  {
   "cell_type": "code",
   "execution_count": 22,
   "metadata": {
    "collapsed": false
   },
   "outputs": [
    {
     "data": {
      "text/plain": [
       "0     g\n",
       "1     g\n",
       "2     g\n",
       "3     i\n",
       "4     i\n",
       "5     i\n",
       "6     i\n",
       "7     i\n",
       "8     r\n",
       "9     r\n",
       "10    r\n",
       "11    r\n",
       "12    r\n",
       "13    u\n",
       "14    u\n",
       "15    y\n",
       "16    y\n",
       "17    y\n",
       "18    y\n",
       "19    y\n",
       "20    z\n",
       "21    z\n",
       "22    z\n",
       "23    z\n",
       "24    z\n",
       "Name: filter, dtype: object"
      ]
     },
     "execution_count": 22,
     "metadata": {},
     "output_type": "execute_result"
    }
   ],
   "source": [
    "q.summary['filter']"
   ]
  },
  {
   "cell_type": "code",
   "execution_count": 23,
   "metadata": {
    "collapsed": false
   },
   "outputs": [
    {
     "name": "stdout",
     "output_type": "stream",
     "text": [
      "19\n"
     ]
    },
    {
     "data": {
      "text/html": [
       "<div>\n",
       "<table border=\"1\" class=\"dataframe\">\n",
       "  <thead>\n",
       "    <tr style=\"text-align: right;\">\n",
       "      <th></th>\n",
       "      <th>time</th>\n",
       "      <th>band</th>\n",
       "      <th>flux</th>\n",
       "      <th>fluxerr</th>\n",
       "      <th>zp</th>\n",
       "      <th>zpsys</th>\n",
       "      <th>SNR</th>\n",
       "      <th>fiveSigmaDepth</th>\n",
       "      <th>night</th>\n",
       "      <th>DetectionEfficiency</th>\n",
       "    </tr>\n",
       "  </thead>\n",
       "  <tbody>\n",
       "    <tr>\n",
       "      <th>10</th>\n",
       "      <td>49542.000000</td>\n",
       "      <td>r</td>\n",
       "      <td>7.989467e-10</td>\n",
       "      <td>2.820028e-11</td>\n",
       "      <td>0</td>\n",
       "      <td>ab</td>\n",
       "      <td>28.331164</td>\n",
       "      <td>24.7</td>\n",
       "      <td>49542</td>\n",
       "      <td>NaN</td>\n",
       "    </tr>\n",
       "    <tr>\n",
       "      <th>5</th>\n",
       "      <td>49542.000000</td>\n",
       "      <td>i</td>\n",
       "      <td>7.894048e-10</td>\n",
       "      <td>5.130814e-11</td>\n",
       "      <td>0</td>\n",
       "      <td>ab</td>\n",
       "      <td>15.385567</td>\n",
       "      <td>24.0</td>\n",
       "      <td>49542</td>\n",
       "      <td>NaN</td>\n",
       "    </tr>\n",
       "    <tr>\n",
       "      <th>9</th>\n",
       "      <td>49526.000000</td>\n",
       "      <td>r</td>\n",
       "      <td>4.112269e-10</td>\n",
       "      <td>2.714882e-11</td>\n",
       "      <td>0</td>\n",
       "      <td>ab</td>\n",
       "      <td>15.147133</td>\n",
       "      <td>24.7</td>\n",
       "      <td>49526</td>\n",
       "      <td>NaN</td>\n",
       "    </tr>\n",
       "    <tr>\n",
       "      <th>1</th>\n",
       "      <td>49536.666667</td>\n",
       "      <td>g</td>\n",
       "      <td>3.084444e-10</td>\n",
       "      <td>2.060987e-11</td>\n",
       "      <td>0</td>\n",
       "      <td>ab</td>\n",
       "      <td>14.965860</td>\n",
       "      <td>25.0</td>\n",
       "      <td>49536</td>\n",
       "      <td>NaN</td>\n",
       "    </tr>\n",
       "    <tr>\n",
       "      <th>11</th>\n",
       "      <td>49558.000000</td>\n",
       "      <td>r</td>\n",
       "      <td>3.687259e-10</td>\n",
       "      <td>2.703108e-11</td>\n",
       "      <td>0</td>\n",
       "      <td>ab</td>\n",
       "      <td>13.640813</td>\n",
       "      <td>24.7</td>\n",
       "      <td>49558</td>\n",
       "      <td>NaN</td>\n",
       "    </tr>\n",
       "    <tr>\n",
       "      <th>6</th>\n",
       "      <td>49558.000000</td>\n",
       "      <td>i</td>\n",
       "      <td>5.331382e-10</td>\n",
       "      <td>5.080129e-11</td>\n",
       "      <td>0</td>\n",
       "      <td>ab</td>\n",
       "      <td>10.494582</td>\n",
       "      <td>24.0</td>\n",
       "      <td>49558</td>\n",
       "      <td>NaN</td>\n",
       "    </tr>\n",
       "    <tr>\n",
       "      <th>22</th>\n",
       "      <td>49542.000000</td>\n",
       "      <td>z</td>\n",
       "      <td>8.468149e-10</td>\n",
       "      <td>9.628731e-11</td>\n",
       "      <td>0</td>\n",
       "      <td>ab</td>\n",
       "      <td>8.794668</td>\n",
       "      <td>23.3</td>\n",
       "      <td>49542</td>\n",
       "      <td>NaN</td>\n",
       "    </tr>\n",
       "    <tr>\n",
       "      <th>4</th>\n",
       "      <td>49526.000000</td>\n",
       "      <td>i</td>\n",
       "      <td>3.863358e-10</td>\n",
       "      <td>5.050864e-11</td>\n",
       "      <td>0</td>\n",
       "      <td>ab</td>\n",
       "      <td>7.648905</td>\n",
       "      <td>24.0</td>\n",
       "      <td>49526</td>\n",
       "      <td>NaN</td>\n",
       "    </tr>\n",
       "    <tr>\n",
       "      <th>23</th>\n",
       "      <td>49558.000000</td>\n",
       "      <td>z</td>\n",
       "      <td>5.253037e-10</td>\n",
       "      <td>9.579735e-11</td>\n",
       "      <td>0</td>\n",
       "      <td>ab</td>\n",
       "      <td>5.483489</td>\n",
       "      <td>23.3</td>\n",
       "      <td>49558</td>\n",
       "      <td>NaN</td>\n",
       "    </tr>\n",
       "    <tr>\n",
       "      <th>7</th>\n",
       "      <td>49574.000000</td>\n",
       "      <td>i</td>\n",
       "      <td>2.502934e-10</td>\n",
       "      <td>5.023593e-11</td>\n",
       "      <td>0</td>\n",
       "      <td>ab</td>\n",
       "      <td>4.982359</td>\n",
       "      <td>24.0</td>\n",
       "      <td>49574</td>\n",
       "      <td>NaN</td>\n",
       "    </tr>\n",
       "    <tr>\n",
       "      <th>12</th>\n",
       "      <td>49574.000000</td>\n",
       "      <td>r</td>\n",
       "      <td>1.146722e-10</td>\n",
       "      <td>2.631626e-11</td>\n",
       "      <td>0</td>\n",
       "      <td>ab</td>\n",
       "      <td>4.357464</td>\n",
       "      <td>24.7</td>\n",
       "      <td>49574</td>\n",
       "      <td>NaN</td>\n",
       "    </tr>\n",
       "    <tr>\n",
       "      <th>21</th>\n",
       "      <td>49526.000000</td>\n",
       "      <td>z</td>\n",
       "      <td>3.795505e-10</td>\n",
       "      <td>9.557441e-11</td>\n",
       "      <td>0</td>\n",
       "      <td>ab</td>\n",
       "      <td>3.971256</td>\n",
       "      <td>23.3</td>\n",
       "      <td>49526</td>\n",
       "      <td>NaN</td>\n",
       "    </tr>\n",
       "    <tr>\n",
       "      <th>24</th>\n",
       "      <td>49574.000000</td>\n",
       "      <td>z</td>\n",
       "      <td>3.664609e-10</td>\n",
       "      <td>9.555436e-11</td>\n",
       "      <td>0</td>\n",
       "      <td>ab</td>\n",
       "      <td>3.835104</td>\n",
       "      <td>23.3</td>\n",
       "      <td>49574</td>\n",
       "      <td>NaN</td>\n",
       "    </tr>\n",
       "    <tr>\n",
       "      <th>17</th>\n",
       "      <td>49542.000000</td>\n",
       "      <td>y</td>\n",
       "      <td>7.357397e-10</td>\n",
       "      <td>2.884012e-10</td>\n",
       "      <td>0</td>\n",
       "      <td>ab</td>\n",
       "      <td>2.551098</td>\n",
       "      <td>22.1</td>\n",
       "      <td>49542</td>\n",
       "      <td>NaN</td>\n",
       "    </tr>\n",
       "    <tr>\n",
       "      <th>2</th>\n",
       "      <td>49563.333333</td>\n",
       "      <td>g</td>\n",
       "      <td>4.294877e-11</td>\n",
       "      <td>1.982981e-11</td>\n",
       "      <td>0</td>\n",
       "      <td>ab</td>\n",
       "      <td>2.165869</td>\n",
       "      <td>25.0</td>\n",
       "      <td>49563</td>\n",
       "      <td>NaN</td>\n",
       "    </tr>\n",
       "    <tr>\n",
       "      <th>18</th>\n",
       "      <td>49558.000000</td>\n",
       "      <td>y</td>\n",
       "      <td>4.550902e-10</td>\n",
       "      <td>2.881292e-10</td>\n",
       "      <td>0</td>\n",
       "      <td>ab</td>\n",
       "      <td>1.579466</td>\n",
       "      <td>22.1</td>\n",
       "      <td>49558</td>\n",
       "      <td>NaN</td>\n",
       "    </tr>\n",
       "    <tr>\n",
       "      <th>19</th>\n",
       "      <td>49574.000000</td>\n",
       "      <td>y</td>\n",
       "      <td>3.839379e-10</td>\n",
       "      <td>2.880601e-10</td>\n",
       "      <td>0</td>\n",
       "      <td>ab</td>\n",
       "      <td>1.332839</td>\n",
       "      <td>22.1</td>\n",
       "      <td>49574</td>\n",
       "      <td>NaN</td>\n",
       "    </tr>\n",
       "    <tr>\n",
       "      <th>16</th>\n",
       "      <td>49526.000000</td>\n",
       "      <td>y</td>\n",
       "      <td>3.830393e-10</td>\n",
       "      <td>2.880593e-10</td>\n",
       "      <td>0</td>\n",
       "      <td>ab</td>\n",
       "      <td>1.329724</td>\n",
       "      <td>22.1</td>\n",
       "      <td>49526</td>\n",
       "      <td>NaN</td>\n",
       "    </tr>\n",
       "    <tr>\n",
       "      <th>14</th>\n",
       "      <td>49550.000000</td>\n",
       "      <td>u</td>\n",
       "      <td>3.147524e-12</td>\n",
       "      <td>5.422613e-11</td>\n",
       "      <td>0</td>\n",
       "      <td>ab</td>\n",
       "      <td>0.058044</td>\n",
       "      <td>23.9</td>\n",
       "      <td>49550</td>\n",
       "      <td>NaN</td>\n",
       "    </tr>\n",
       "  </tbody>\n",
       "</table>\n",
       "</div>"
      ],
      "text/plain": [
       "            time band          flux       fluxerr  zp zpsys        SNR  \\\n",
       "10  49542.000000    r  7.989467e-10  2.820028e-11   0    ab  28.331164   \n",
       "5   49542.000000    i  7.894048e-10  5.130814e-11   0    ab  15.385567   \n",
       "9   49526.000000    r  4.112269e-10  2.714882e-11   0    ab  15.147133   \n",
       "1   49536.666667    g  3.084444e-10  2.060987e-11   0    ab  14.965860   \n",
       "11  49558.000000    r  3.687259e-10  2.703108e-11   0    ab  13.640813   \n",
       "6   49558.000000    i  5.331382e-10  5.080129e-11   0    ab  10.494582   \n",
       "22  49542.000000    z  8.468149e-10  9.628731e-11   0    ab   8.794668   \n",
       "4   49526.000000    i  3.863358e-10  5.050864e-11   0    ab   7.648905   \n",
       "23  49558.000000    z  5.253037e-10  9.579735e-11   0    ab   5.483489   \n",
       "7   49574.000000    i  2.502934e-10  5.023593e-11   0    ab   4.982359   \n",
       "12  49574.000000    r  1.146722e-10  2.631626e-11   0    ab   4.357464   \n",
       "21  49526.000000    z  3.795505e-10  9.557441e-11   0    ab   3.971256   \n",
       "24  49574.000000    z  3.664609e-10  9.555436e-11   0    ab   3.835104   \n",
       "17  49542.000000    y  7.357397e-10  2.884012e-10   0    ab   2.551098   \n",
       "2   49563.333333    g  4.294877e-11  1.982981e-11   0    ab   2.165869   \n",
       "18  49558.000000    y  4.550902e-10  2.881292e-10   0    ab   1.579466   \n",
       "19  49574.000000    y  3.839379e-10  2.880601e-10   0    ab   1.332839   \n",
       "16  49526.000000    y  3.830393e-10  2.880593e-10   0    ab   1.329724   \n",
       "14  49550.000000    u  3.147524e-12  5.422613e-11   0    ab   0.058044   \n",
       "\n",
       "    fiveSigmaDepth  night  DetectionEfficiency  \n",
       "10            24.7  49542                  NaN  \n",
       "5             24.0  49542                  NaN  \n",
       "9             24.7  49526                  NaN  \n",
       "1             25.0  49536                  NaN  \n",
       "11            24.7  49558                  NaN  \n",
       "6             24.0  49558                  NaN  \n",
       "22            23.3  49542                  NaN  \n",
       "4             24.0  49526                  NaN  \n",
       "23            23.3  49558                  NaN  \n",
       "7             24.0  49574                  NaN  \n",
       "12            24.7  49574                  NaN  \n",
       "21            23.3  49526                  NaN  \n",
       "24            23.3  49574                  NaN  \n",
       "17            22.1  49542                  NaN  \n",
       "2             25.0  49563                  NaN  \n",
       "18            22.1  49558                  NaN  \n",
       "19            22.1  49574                  NaN  \n",
       "16            22.1  49526                  NaN  \n",
       "14            23.9  49550                  NaN  "
      ]
     },
     "execution_count": 23,
     "metadata": {},
     "output_type": "execute_result"
    }
   ],
   "source": [
    "q.lightcurve"
   ]
  },
  {
   "cell_type": "code",
   "execution_count": 25,
   "metadata": {
    "collapsed": false
   },
   "outputs": [
    {
     "name": "stdout",
     "output_type": "stream",
     "text": [
      "19\n"
     ]
    },
    {
     "name": "stderr",
     "output_type": "stream",
     "text": [
      "metrics.py:104: SettingWithCopyWarning: \n",
      "A value is trying to be set on a copy of a slice from a DataFrame.\n",
      "Try using .loc[row_indexer,col_indexer] = value instead\n",
      "\n",
      "See the caveats in the documentation: http://pandas.pydata.org/pandas-docs/stable/indexing.html#indexing-view-versus-copy\n",
      "  lc['flux'] = lc['flux'] + lc['deviation'] * lc['fluxerr']\n"
     ]
    },
    {
     "data": {
      "image/png": "[encoded data removed]",
      "text/plain": [
       "<matplotlib.figure.Figure at 0x1146a9a50>"
      ]
     },
     "execution_count": 25,
     "metadata": {},
     "output_type": "execute_result"
    },
    {
     "data": {
      "image/png": "[encoded data removed]",
      "text/plain": [
       "<matplotlib.figure.Figure at 0x1146a9a50>"
      ]
     },
     "metadata": {},
     "output_type": "display_data"
    }
   ],
   "source": [
    "q.lcplot(scattered=True)"
   ]
  },
  {
   "cell_type": "markdown",
   "metadata": {},
   "source": [
    "# Scratch"
   ]
  },
  {
   "cell_type": "code",
   "execution_count": null,
   "metadata": {
    "collapsed": true
   },
   "outputs": [],
   "source": []
  },
  {
   "cell_type": "code",
   "execution_count": null,
   "metadata": {
    "collapsed": true
   },
   "outputs": [],
   "source": [
    "opsimHDF = os.path.join(os.getenv('HOME'), 'data', 'LSST', 'OpSimData', 'storage.h5')\n",
    "summarydf = pd.read_hdf(opsimHDF, 'table')\n",
    "\n"
   ]
  },
  {
   "cell_type": "code",
   "execution_count": null,
   "metadata": {
    "collapsed": false
   },
   "outputs": [],
   "source": [
    "summarydf.query('fieldID == 290')[['fieldRA', 'fieldDec']].head()"
   ]
  },
  {
   "cell_type": "code",
   "execution_count": null,
   "metadata": {
    "collapsed": true
   },
   "outputs": [],
   "source": [
    "posns = pd.read_csv('example_data/posns.txt', delim_whitespace=True)"
   ]
  },
  {
   "cell_type": "code",
   "execution_count": null,
   "metadata": {
    "collapsed": true
   },
   "outputs": [],
   "source": [
    "posns['ra_radians']= np.radians(posns.RAdeg)\n",
    "posns['dec_radians']= np.radians(posns.Decdeg)"
   ]
  },
  {
   "cell_type": "code",
   "execution_count": null,
   "metadata": {
    "collapsed": false
   },
   "outputs": [],
   "source": [
    "posns.ix[0, 'ra_radians']"
   ]
  },
  {
   "cell_type": "code",
   "execution_count": null,
   "metadata": {
    "collapsed": true
   },
   "outputs": [],
   "source": [
    "radius = np.radians(1.75)"
   ]
  },
  {
   "cell_type": "code",
   "execution_count": null,
   "metadata": {
    "collapsed": true
   },
   "outputs": [],
   "source": [
    "def distance(ra1, dec1, ra2, dec2):\n",
    "    \"\"\"\n",
    "    Obtain the angular distance in radians between two points with given\n",
    "    ra, dec values in radians\n",
    "    \n",
    "    Parameters\n",
    "    ----------\n",
    "    ra1 : array like, mandatory\n",
    "    dec1 :\n",
    "    ra2 :\n",
    "    dec2 :\n",
    "    \"\"\"\n",
    "    cosDelta = np.cos(dec1)* np.cos(dec2) *np.cos(ra1 -ra2) + np.sin(dec1)*np.sin(dec2)\n",
    "    return np.arccos(cosDelta)"
   ]
  },
  {
   "cell_type": "code",
   "execution_count": null,
   "metadata": {
    "collapsed": true
   },
   "outputs": [],
   "source": [
    "def _obsForSN(summarydf, ind):\n",
    "    summarydf['observed'] = 0\n",
    "    summarydf['distance'] = distance(summarydf['ditheredRA'], \n",
    "                                     summarydf['ditheredDec'],\n",
    "                                     #ra, dec)\n",
    "                                     posns.ix[ind, 'ra_radians'], \n",
    "                                     posns.ix[ind, 'dec_radians'])\n",
    "    \n",
    "    summarydf.ix[summarydf.distance < radius, 'observed'] = 1\n",
    "    return summarydf.groupby('observed').get_group(1)"
   ]
  },
  {
   "cell_type": "code",
   "execution_count": null,
   "metadata": {
    "collapsed": false
   },
   "outputs": [],
   "source": [
    "qm_0 = PerSNMetric(t0=49484, summarydf=_obsForSN(summarydf, 0), lsst_bp=lsst_bp, raCol='ditheredRA', decCol='ditheredDec')"
   ]
  },
  {
   "cell_type": "code",
   "execution_count": null,
   "metadata": {
    "collapsed": false
   },
   "outputs": [],
   "source": [
    "qm_0.lsst_bp[qm_0.df['filter'].iloc[0]].wavelen"
   ]
  },
  {
   "cell_type": "code",
   "execution_count": null,
   "metadata": {
    "collapsed": true
   },
   "outputs": [],
   "source": [
    "dftest = qm_0.df.copy()"
   ]
  },
  {
   "cell_type": "code",
   "execution_count": null,
   "metadata": {
    "collapsed": false
   },
   "outputs": [],
   "source": [
    "dftest['filter'].apply(lambda x: x.lower())"
   ]
  },
  {
   "cell_type": "code",
   "execution_count": null,
   "metadata": {
    "collapsed": false
   },
   "outputs": [],
   "source": [
    "dftest['filter'] = dftest['filter'].apply(lambda x: x.lower())"
   ]
  },
  {
   "cell_type": "code",
   "execution_count": null,
   "metadata": {
    "collapsed": false
   },
   "outputs": [],
   "source": [
    "'Y' in dftest['filter']"
   ]
  },
  {
   "cell_type": "code",
   "execution_count": null,
   "metadata": {
    "collapsed": false
   },
   "outputs": [],
   "source": [
    "dftest.apply(lambda row: qm_0.SN.catsimBandFluxes(row['expMJD'], \n",
    "                                                  qm_0.lsst_bp[row['filter']]),axis=1)"
   ]
  },
  {
   "cell_type": "code",
   "execution_count": null,
   "metadata": {
    "collapsed": false
   },
   "outputs": [],
   "source": [
    "band in qm_0.df.columns"
   ]
  },
  {
   "cell_type": "code",
   "execution_count": null,
   "metadata": {
    "collapsed": false
   },
   "outputs": [],
   "source": [
    "qm_0.lcplot(nightlyCoadd=True)"
   ]
  },
  {
   "cell_type": "code",
   "execution_count": null,
   "metadata": {
    "collapsed": false
   },
   "outputs": [],
   "source": [
    "x = qm_0.SNCosmoLC()"
   ]
  },
  {
   "cell_type": "code",
   "execution_count": null,
   "metadata": {
    "collapsed": true
   },
   "outputs": [],
   "source": [
    "model = sncosmo"
   ]
  },
  {
   "cell_type": "code",
   "execution_count": null,
   "metadata": {
    "collapsed": false
   },
   "outputs": [],
   "source": [
    "qm_0.sncosmoModel"
   ]
  },
  {
   "cell_type": "code",
   "execution_count": null,
   "metadata": {
    "collapsed": false
   },
   "outputs": [],
   "source": [
    "print(qm_0.sncosmoModel)"
   ]
  },
  {
   "cell_type": "code",
   "execution_count": null,
   "metadata": {
    "collapsed": false
   },
   "outputs": [],
   "source": [
    "mcmc_out = sncosmo.mcmc_lc(x, model=qm_0.sncosmoModel, \n",
    "                vparam_names=['t0', 'x0', 'x1', 'c'], \n",
    "                bounds={'c':(-0.3, 0.3), 'x1':(-3.0, 3.0)}, \n",
    "                minsnr=0.)"
   ]
  },
  {
   "cell_type": "code",
   "execution_count": null,
   "metadata": {
    "collapsed": false
   },
   "outputs": [],
   "source": [
    "mcmc_out[0]['samples']"
   ]
  },
  {
   "cell_type": "code",
   "execution_count": null,
   "metadata": {
    "collapsed": false
   },
   "outputs": [],
   "source": [
    "mcmc_out[0].keys()"
   ]
  },
  {
   "cell_type": "code",
   "execution_count": null,
   "metadata": {
    "collapsed": true
   },
   "outputs": [],
   "source": [
    "import corner"
   ]
  },
  {
   "cell_type": "code",
   "execution_count": null,
   "metadata": {
    "collapsed": false
   },
   "outputs": [],
   "source": [
    "corner.corner(mcmc_out[0].samples, labels=mcmc_out[0]['vparam_names'])"
   ]
  },
  {
   "cell_type": "code",
   "execution_count": null,
   "metadata": {
    "collapsed": false
   },
   "outputs": [],
   "source": [
    "mcmc_out[0].covariance"
   ]
  },
  {
   "cell_type": "code",
   "execution_count": null,
   "metadata": {
    "collapsed": false
   },
   "outputs": [],
   "source": [
    "qm_0.fits[0]['vparam_names']"
   ]
  },
  {
   "cell_type": "code",
   "execution_count": null,
   "metadata": {
    "collapsed": true
   },
   "outputs": [],
   "source": [
    "fitres = qm_0.fits[0] "
   ]
  },
  {
   "cell_type": "code",
   "execution_count": null,
   "metadata": {
    "collapsed": false
   },
   "outputs": [],
   "source": [
    "type(fitres)"
   ]
  },
  {
   "cell_type": "code",
   "execution_count": null,
   "metadata": {
    "collapsed": false
   },
   "outputs": [],
   "source": [
    "vparam_names = fitres.vparam_names"
   ]
  },
  {
   "cell_type": "code",
   "execution_count": null,
   "metadata": {
    "collapsed": false
   },
   "outputs": [],
   "source": [
    "for v in vparam_names:\n",
    "    print fitres.param_names.index(v)"
   ]
  },
  {
   "cell_type": "code",
   "execution_count": null,
   "metadata": {
    "collapsed": true
   },
   "outputs": [],
   "source": [
    "res = fitres"
   ]
  },
  {
   "cell_type": "code",
   "execution_count": null,
   "metadata": {
    "collapsed": false
   },
   "outputs": [],
   "source": [
    "vparams = [res.parameters[res.param_names.index(v)] for v in res.vparam_names]"
   ]
  },
  {
   "cell_type": "code",
   "execution_count": null,
   "metadata": {
    "collapsed": false
   },
   "outputs": [],
   "source": [
    "np.take(res.covariance, [[0, 2], [0,2]])"
   ]
  },
  {
   "cell_type": "code",
   "execution_count": null,
   "metadata": {
    "collapsed": false
   },
   "outputs": [],
   "source": [
    "df = pd.DataFrame(res.covariance)"
   ]
  },
  {
   "cell_type": "code",
   "execution_count": null,
   "metadata": {
    "collapsed": false
   },
   "outputs": [],
   "source": [
    "df"
   ]
  },
  {
   "cell_type": "code",
   "execution_count": null,
   "metadata": {
    "collapsed": false
   },
   "outputs": [],
   "source": [
    "res.covariance[0:2, :2]"
   ]
  },
  {
   "cell_type": "code",
   "execution_count": null,
   "metadata": {
    "collapsed": false
   },
   "outputs": [],
   "source": [
    "res.covariance[np.ix_([0, 2, 3], [0, 2, 3])]"
   ]
  },
  {
   "cell_type": "code",
   "execution_count": null,
   "metadata": {
    "collapsed": false
   },
   "outputs": [],
   "source": [
    "res.errors.values()"
   ]
  },
  {
   "cell_type": "code",
   "execution_count": null,
   "metadata": {
    "collapsed": false
   },
   "outputs": [],
   "source": [
    "res.errors.keys() == res.vparam_names"
   ]
  },
  {
   "cell_type": "code",
   "execution_count": null,
   "metadata": {
    "collapsed": false
   },
   "outputs": [],
   "source": [
    "res.errors.values()[0]"
   ]
  },
  {
   "cell_type": "code",
   "execution_count": null,
   "metadata": {
    "collapsed": false
   },
   "outputs": [],
   "source": [
    "res.covariance[0,0] **0.5"
   ]
  },
  {
   "cell_type": "code",
   "execution_count": null,
   "metadata": {
    "collapsed": false
   },
   "outputs": [],
   "source": [
    "[res.covariance[i,i]**0.5 - res.errors.values()[i] for i in range(4) ]"
   ]
  },
  {
   "cell_type": "code",
   "execution_count": null,
   "metadata": {
    "collapsed": false
   },
   "outputs": [],
   "source": [
    "ind = [i in param_names.index(v) for v in vparam_names]"
   ]
  },
  {
   "cell_type": "code",
   "execution_count": null,
   "metadata": {
    "collapsed": false
   },
   "outputs": [],
   "source": [
    "type(fitres.parameters)"
   ]
  },
  {
   "cell_type": "code",
   "execution_count": null,
   "metadata": {
    "collapsed": false
   },
   "outputs": [],
   "source": [
    "vparams = [fitres.parameters[i] for i in fitres.param_names.index(vp) for vp in vparam_names]"
   ]
  },
  {
   "cell_type": "code",
   "execution_count": null,
   "metadata": {
    "collapsed": true
   },
   "outputs": [],
   "source": [
    "for vp in vparam_names:\n",
    "    for i in "
   ]
  },
  {
   "cell_type": "code",
   "execution_count": null,
   "metadata": {
    "collapsed": false
   },
   "outputs": [],
   "source": [
    "[fitres.parameters[i] for vp in vparam_names for i in fitres.param_names.index(vp)]"
   ]
  },
  {
   "cell_type": "code",
   "execution_count": null,
   "metadata": {
    "collapsed": false
   },
   "outputs": [],
   "source": [
    "vparams = [qm_0.fits[0]qm_0.fits[0].param_names.index('x0')]"
   ]
  },
  {
   "cell_type": "code",
   "execution_count": null,
   "metadata": {
    "collapsed": true
   },
   "outputs": [],
   "source": []
  },
  {
   "cell_type": "code",
   "execution_count": null,
   "metadata": {
    "collapsed": false
   },
   "outputs": [],
   "source": [
    "qm_0.fits[0].covariance"
   ]
  },
  {
   "cell_type": "code",
   "execution_count": null,
   "metadata": {
    "collapsed": false
   },
   "outputs": [],
   "source": [
    "qm_0.SN.SNstate"
   ]
  },
  {
   "cell_type": "code",
   "execution_count": null,
   "metadata": {
    "collapsed": false
   },
   "outputs": [],
   "source": [
    "from lsst.sims.catUtils.mixins import SNObject"
   ]
  },
  {
   "cell_type": "code",
   "execution_count": null,
   "metadata": {
    "collapsed": false
   },
   "outputs": [],
   "source": [
    "t = SNObject(ra=30., dec=60.)"
   ]
  },
  {
   "cell_type": "code",
   "execution_count": null,
   "metadata": {
    "collapsed": false
   },
   "outputs": [],
   "source": [
    "print(t.source.name)"
   ]
  },
  {
   "cell_type": "code",
   "execution_count": null,
   "metadata": {
    "collapsed": false
   },
   "outputs": [],
   "source": [
    "t.equivalentSNCosmoModel()"
   ]
  },
  {
   "cell_type": "code",
   "execution_count": null,
   "metadata": {
    "collapsed": false
   },
   "outputs": [],
   "source": [
    "qm_0.SN.equivalentSNCosmoModel()"
   ]
  },
  {
   "cell_type": "code",
   "execution_count": null,
   "metadata": {
    "collapsed": true
   },
   "outputs": [],
   "source": []
  },
  {
   "cell_type": "code",
   "execution_count": null,
   "metadata": {
    "collapsed": true
   },
   "outputs": [],
   "source": [
    "import collections"
   ]
  },
  {
   "cell_type": "code",
   "execution_count": null,
   "metadata": {
    "collapsed": false
   },
   "outputs": [],
   "source": [
    "print 'Regular dictionary:'\n",
    "rd = {}\n",
    "rd['a'] = 'A'\n",
    "rd['b'] = 'B'\n",
    "rd['c'] = 'C'\n",
    "rd['d'] = 'D'\n",
    "rd['e'] = 'E'\n",
    "\n",
    "for k, v in rd.items():\n",
    "    print k, v"
   ]
  },
  {
   "cell_type": "code",
   "execution_count": null,
   "metadata": {
    "collapsed": false
   },
   "outputs": [],
   "source": [
    "dir(rd)"
   ]
  },
  {
   "cell_type": "code",
   "execution_count": null,
   "metadata": {
    "collapsed": false
   },
   "outputs": [],
   "source": [
    "clear(d)"
   ]
  },
  {
   "cell_type": "code",
   "execution_count": null,
   "metadata": {
    "collapsed": false
   },
   "outputs": [],
   "source": [
    "print '\\nOrderedDict:'\n",
    "d = collections.OrderedDict()\n",
    "d['a'] = 'A'\n",
    "d['b'] = 'B'\n",
    "d['c'] = 'C'\n",
    "d['d'] = 'D'\n",
    "d['e'] = 'E'\n",
    "\n",
    "for k, v in d.items():\n",
    "    print k, v\n",
    "    "
   ]
  },
  {
   "cell_type": "code",
   "execution_count": null,
   "metadata": {
    "collapsed": false
   },
   "outputs": [],
   "source": [
    "dir(d)"
   ]
  },
  {
   "cell_type": "code",
   "execution_count": null,
   "metadata": {
    "collapsed": false
   },
   "outputs": [],
   "source": [
    "d.values()"
   ]
  },
  {
   "cell_type": "code",
   "execution_count": null,
   "metadata": {
    "collapsed": false
   },
   "outputs": [],
   "source": [
    "np.atleast_2d(1)"
   ]
  },
  {
   "cell_type": "code",
   "execution_count": null,
   "metadata": {
    "collapsed": false
   },
   "outputs": [],
   "source": [
    "np.atleast_1d([1, 2])"
   ]
  },
  {
   "cell_type": "code",
   "execution_count": null,
   "metadata": {
    "collapsed": true
   },
   "outputs": [],
   "source": [
    "import itertools"
   ]
  },
  {
   "cell_type": "code",
   "execution_count": null,
   "metadata": {
    "collapsed": false
   },
   "outputs": [],
   "source": [
    "l = np.arange(len(vparams))"
   ]
  },
  {
   "cell_type": "code",
   "execution_count": null,
   "metadata": {
    "collapsed": false
   },
   "outputs": [],
   "source": [
    "for val in itertools.product(l, repeat=0):\n",
    "    print val"
   ]
  },
  {
   "cell_type": "code",
   "execution_count": null,
   "metadata": {
    "collapsed": false
   },
   "outputs": [],
   "source": [
    "for item in itertools.combinations_with_replacement(l, 2):\n",
    "    print list(item)"
   ]
  },
  {
   "cell_type": "code",
   "execution_count": null,
   "metadata": {
    "collapsed": true
   },
   "outputs": [],
   "source": [
    "fig = plt.subplot"
   ]
  },
  {
   "cell_type": "code",
   "execution_count": null,
   "metadata": {
    "collapsed": false
   },
   "outputs": [],
   "source": [
    "for item in itertools.combinations_with_replacement(l, 2):\n",
    "    print item"
   ]
  },
  {
   "cell_type": "code",
   "execution_count": null,
   "metadata": {
    "collapsed": false
   },
   "outputs": [],
   "source": [
    "res.covariance[np.ix_([1,2], [1,2])]"
   ]
  },
  {
   "cell_type": "code",
   "execution_count": null,
   "metadata": {
    "collapsed": true
   },
   "outputs": [],
   "source": [
    "import matplotlib.mlab as mlab"
   ]
  },
  {
   "cell_type": "code",
   "execution_count": null,
   "metadata": {
    "collapsed": false
   },
   "outputs": [],
   "source": [
    "delta = 0.025\n",
    "x = np.arange(-3.0, 3.0, delta)\n",
    "y = np.arange(-2.0, 2.0, delta)\n",
    "X, Y = np.meshgrid(x, y)\n",
    "Z1 = mlab.bivariate_normal(X, Y, 1.0, 1.0, 0.0, 0.0)\n",
    "Z2 = mlab.bivariate_normal(X, Y, 1.5, 0.5, 1, 1)\n",
    "# difference of Gaussians\n",
    "Z = 10.0 * (Z2 - Z1)\n",
    "\n"
   ]
  },
  {
   "cell_type": "code",
   "execution_count": null,
   "metadata": {
    "collapsed": false
   },
   "outputs": [],
   "source": [
    "plt.figure()\n",
    "CS = plt.contour(X, Y, Z)\n",
    "plt.clabel(CS, inline=1, fontsize=10)"
   ]
  },
  {
   "cell_type": "code",
   "execution_count": null,
   "metadata": {
    "collapsed": false
   },
   "outputs": [],
   "source": [
    "plt.figure()\n",
    "CS = plt.contour(X, Y, Z)\n",
    "manual_locations = [(-1, -1.4), (-0.62, -0.7), (-2, 0.5), (1.7, 1.2), (2.0, 1.4), (2.4, 1.7)]\n",
    "plt.clabel(CS, inline=1, fontsize=10, manual=manual_locations)\n",
    "plt.title('labels at selected locations')\n",
    "\n"
   ]
  },
  {
   "cell_type": "code",
   "execution_count": null,
   "metadata": {
    "collapsed": true
   },
   "outputs": [],
   "source": [
    "from scipy.stats import multivariate_normal"
   ]
  },
  {
   "cell_type": "code",
   "execution_count": null,
   "metadata": {
    "collapsed": true
   },
   "outputs": [],
   "source": [
    "x, y =  np.mgrid[-1:1:.01, -1:1:.01]"
   ]
  },
  {
   "cell_type": "code",
   "execution_count": null,
   "metadata": {
    "collapsed": true
   },
   "outputs": [],
   "source": [
    "pos = np.empty(x.shape + (2,))"
   ]
  },
  {
   "cell_type": "code",
   "execution_count": null,
   "metadata": {
    "collapsed": true
   },
   "outputs": [],
   "source": [
    "pos[:, :, 0] = x; pos[:, :, 1] = y"
   ]
  },
  {
   "cell_type": "code",
   "execution_count": null,
   "metadata": {
    "collapsed": true
   },
   "outputs": [],
   "source": [
    "rv = multivariate_normal([0.5, -0.2], [[2.0, 0.3], [0.3, 0.5]])"
   ]
  },
  {
   "cell_type": "code",
   "execution_count": null,
   "metadata": {
    "collapsed": false
   },
   "outputs": [],
   "source": [
    "plt.contourf(x, y, rv.pdf(pos), V=[0.68, 0.95])"
   ]
  },
  {
   "cell_type": "code",
   "execution_count": null,
   "metadata": {
    "collapsed": true
   },
   "outputs": [],
   "source": [
    "from matplotlib.patches import Ellipse"
   ]
  },
  {
   "cell_type": "code",
   "execution_count": null,
   "metadata": {
    "collapsed": true
   },
   "outputs": [],
   "source": [
    "Ellipse()"
   ]
  },
  {
   "cell_type": "code",
   "execution_count": null,
   "metadata": {
    "collapsed": true
   },
   "outputs": [],
   "source": [
    "def eigsorted(cov):\n",
    "    vals, vecs = np.linalg.eigh(cov)\n",
    "    order = vals.argsort()[::-1]\n",
    "    return vals[order], vecs[:,order]\n"
   ]
  },
  {
   "cell_type": "code",
   "execution_count": null,
   "metadata": {
    "collapsed": false
   },
   "outputs": [],
   "source": [
    "tmp = res.covariance[np.ix_([0, 1], [0, 1])]\n",
    "x = eigsorted(tmp)"
   ]
  },
  {
   "cell_type": "code",
   "execution_count": null,
   "metadata": {
    "collapsed": false
   },
   "outputs": [],
   "source": [
    "print x"
   ]
  },
  {
   "cell_type": "code",
   "execution_count": null,
   "metadata": {
    "collapsed": false
   },
   "outputs": [],
   "source": [
    "np.linalg.eigh(tmp)"
   ]
  },
  {
   "cell_type": "code",
   "execution_count": null,
   "metadata": {
    "collapsed": true
   },
   "outputs": [],
   "source": [
    "vals, vecs = eigsorted(tmp)"
   ]
  },
  {
   "cell_type": "code",
   "execution_count": null,
   "metadata": {
    "collapsed": true
   },
   "outputs": [],
   "source": [
    "theta = np.degrees(np.arctan2(*vecs[:,0][::-1]))"
   ]
  },
  {
   "cell_type": "code",
   "execution_count": null,
   "metadata": {
    "collapsed": false
   },
   "outputs": [],
   "source": [
    "theta"
   ]
  },
  {
   "cell_type": "code",
   "execution_count": null,
   "metadata": {
    "collapsed": false
   },
   "outputs": [],
   "source": [
    "pd.DataFrame(tmp)"
   ]
  },
  {
   "cell_type": "code",
   "execution_count": null,
   "metadata": {
    "collapsed": false
   },
   "outputs": [],
   "source": [
    "fig, ax = plt.subplots()"
   ]
  },
  {
   "cell_type": "code",
   "execution_count": null,
   "metadata": {
    "collapsed": true
   },
   "outputs": [],
   "source": [
    "nstd = 2"
   ]
  },
  {
   "cell_type": "code",
   "execution_count": null,
   "metadata": {
    "collapsed": false
   },
   "outputs": [],
   "source": [
    "pos = vparams[:2]"
   ]
  },
  {
   "cell_type": "code",
   "execution_count": null,
   "metadata": {
    "collapsed": false
   },
   "outputs": [],
   "source": [
    "width, height = 2 * nstd * np.sqrt(vals)\n",
    "ellip = Ellipse(xy=pos, width=width, height=height, angle=theta,)\n",
    "ax.add_artist(ellip)\n"
   ]
  },
  {
   "cell_type": "code",
   "execution_count": null,
   "metadata": {
    "collapsed": false
   },
   "outputs": [],
   "source": [
    "width"
   ]
  },
  {
   "cell_type": "code",
   "execution_count": null,
   "metadata": {
    "collapsed": false
   },
   "outputs": [],
   "source": [
    "height"
   ]
  },
  {
   "cell_type": "code",
   "execution_count": null,
   "metadata": {
    "collapsed": false
   },
   "outputs": [],
   "source": [
    "theta"
   ]
  },
  {
   "cell_type": "code",
   "execution_count": null,
   "metadata": {
    "collapsed": false
   },
   "outputs": [],
   "source": [
    "plt.show(ellip)"
   ]
  },
  {
   "cell_type": "code",
   "execution_count": null,
   "metadata": {
    "collapsed": false
   },
   "outputs": [],
   "source": [
    "fig"
   ]
  },
  {
   "cell_type": "code",
   "execution_count": null,
   "metadata": {
    "collapsed": true
   },
   "outputs": [],
   "source": []
  },
  {
   "cell_type": "code",
   "execution_count": null,
   "metadata": {
    "collapsed": true
   },
   "outputs": [],
   "source": [
    "\n",
    "    # Width and height are \"full\" widths, not radius\n",
    "    width, height = 2 * nstd * np.sqrt(vals)\n",
    "    ellip = Ellipse(xy=pos, width=width, height=height, angle=theta, **kwargs)\n",
    "\n",
    "    ax.add_artist(ellip)\n",
    "    return ellip"
   ]
  },
  {
   "cell_type": "code",
   "execution_count": null,
   "metadata": {
    "collapsed": false
   },
   "outputs": [],
   "source": [
    "from matplotlib.patches import Ellipse\n",
    "\n",
    "def plot_point_cov(points, nstd=2, ax=None, **kwargs):\n",
    "    \"\"\"\n",
    "    Plots an `nstd` sigma ellipse based on the mean and covariance of a point\n",
    "    \"cloud\" (points, an Nx2 array).\n",
    "    Parameters\n",
    "    ----------\n",
    "        points : An Nx2 array of the data points.\n",
    "        nstd : The radius of the ellipse in numbers of standard deviations.\n",
    "            Defaults to 2 standard deviations.\n",
    "        ax : The axis that the ellipse will be plotted on. Defaults to the \n",
    "            current axis.\n",
    "        Additional keyword arguments are pass on to the ellipse patch.\n",
    "    Returns\n",
    "    -------\n",
    "        A matplotlib ellipse artist\n",
    "    \"\"\"\n",
    "    pos = points.mean(axis=0)\n",
    "    cov = np.cov(points, rowvar=False)\n",
    "    return plot_cov_ellipse(cov, pos, nstd, ax, **kwargs)\n",
    "\n",
    "def plot_cov_ellipse(cov, pos, nstd=2, ax=None, **kwargs):\n",
    "    \"\"\"\n",
    "    Plots an `nstd` sigma error ellipse based on the specified covariance\n",
    "    matrix (`cov`). Additional keyword arguments are passed on to the \n",
    "    ellipse patch artist.\n",
    "    Parameters\n",
    "    ----------\n",
    "        cov : The 2x2 covariance matrix to base the ellipse on\n",
    "        pos : The location of the center of the ellipse. Expects a 2-element\n",
    "            sequence of [x0, y0].\n",
    "        nstd : The radius of the ellipse in numbers of standard deviations.\n",
    "            Defaults to 2 standard deviations.\n",
    "        ax : The axis that the ellipse will be plotted on. Defaults to the \n",
    "            current axis.\n",
    "        Additional keyword arguments are pass on to the ellipse patch.\n",
    "    Returns\n",
    "    -------\n",
    "        A matplotlib ellipse artist\n",
    "    \"\"\"\n",
    "    def eigsorted(cov):\n",
    "        vals, vecs = np.linalg.eigh(cov)\n",
    "        order = vals.argsort()[::-1]\n",
    "        return vals[order], vecs[:,order]\n",
    "\n",
    "    if ax is None:\n",
    "        ax = plt.gca()\n",
    "\n",
    "    vals, vecs = eigsorted(cov)\n",
    "    theta = np.degrees(np.arctan2(*vecs[:,0][::-1]))\n",
    "\n",
    "    # Width and height are \"full\" widths, not radius\n",
    "    width, height = 2 * nstd * np.sqrt(vals)\n",
    "    ellip = Ellipse(xy=pos, width=width, height=height, angle=theta, **kwargs)\n",
    "\n",
    "    ax.add_artist(ellip)\n",
    "    return ellip\n"
   ]
  },
  {
   "cell_type": "code",
   "execution_count": null,
   "metadata": {
    "collapsed": false
   },
   "outputs": [],
   "source": [
    "points = np.random.multivariate_normal(mean=(1,1), cov=[[0.4, 9],[9, 10]], size=1000)"
   ]
  },
  {
   "cell_type": "code",
   "execution_count": null,
   "metadata": {
    "collapsed": false
   },
   "outputs": [],
   "source": [
    "# Plot the raw points...\n",
    "x, y = points.T\n",
    "plt.plot(x, y, 'ro')\n",
    "\n",
    "# Plot a transparent 3 standard deviation covariance ellipse\n",
    "plot_point_cov(points, nstd=3, alpha=0.5, color='green')\n"
   ]
  },
  {
   "cell_type": "code",
   "execution_count": null,
   "metadata": {
    "collapsed": true
   },
   "outputs": [],
   "source": []
  }
 ],
 "metadata": {
  "kernelspec": {
   "display_name": "Python 2",
   "language": "python",
   "name": "python2"
  },
  "language_info": {
   "codemirror_mode": {
    "name": "ipython",
    "version": 2
   },
   "file_extension": ".py",
   "mimetype": "text/x-python",
   "name": "python",
   "nbconvert_exporter": "python",
   "pygments_lexer": "ipython2",
   "version": "2.7.11"
  }
 },
 "nbformat": 4,
 "nbformat_minor": 0
}
