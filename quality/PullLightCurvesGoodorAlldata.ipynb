{
 "cells": [
  {
   "cell_type": "markdown",
   "metadata": {},
   "source": [
    "Here I'll just grab a single point in the sky and look at what some possible light curves could look like. This could be handy if one wanted to test and refine some algorithms for deciding how good a light curve is."
   ]
  },
  {
   "cell_type": "code",
   "execution_count": 9,
   "metadata": {
    "collapsed": false
   },
   "outputs": [
    {
     "name": "stdout",
     "output_type": "stream",
     "text": [
      "test\n"
     ]
    }
   ],
   "source": [
    "%matplotlib inline\n",
    "import numpy as np\n",
    "import matplotlib.pyplot as plt\n",
    "import healpy as hp\n",
    "import ipykernel as ik\n",
    "import lsst.sims.maf.db as db\n",
    "import lsst.sims.maf.utils as utils\n",
    "import lsst.sims.maf.metrics as metrics\n",
    "import ipykernel as ik\n",
    "import lsst.sims.maf.metrics as metrics\n",
    "import lsst.sims.maf.slicers as slicers\n",
    "import lsst.sims.maf.metricBundles as metricBundles\n",
    "print 'test'"
   ]
  },
  {
   "cell_type": "code",
   "execution_count": 10,
   "metadata": {
    "collapsed": false
   },
   "outputs": [
    {
     "name": "stdout",
     "output_type": "stream",
     "text": [
      "aaaa\n"
     ]
    }
   ],
   "source": [
    "outDir ='LightCurve'\n",
    "dbFile = 'enigma_1189_sqlite.db'\n",
    "opsimdb = utils.connectOpsimDb(dbFile)\n",
    "resultsDb = db.ResultsDb(outDir=outDir)\n",
    "print 'aaaa'"
   ]
  },
  {
   "cell_type": "code",
   "execution_count": 11,
   "metadata": {
    "collapsed": false
   },
   "outputs": [
    {
     "name": "stdout",
     "output_type": "stream",
     "text": [
      "test3\n"
     ]
    }
   ],
   "source": [
    "print 'test3'\n",
    "filters = ['u','g','r','i','z','y']\n",
    "colors={'u':'cyan','g':'g','r':'y','i':'r','z':'m', 'y':'k'}"
   ]
  },
  {
   "cell_type": "markdown",
   "metadata": {},
   "source": [
    "**Parameters to set**"
   ]
  },
  {
   "cell_type": "code",
   "execution_count": 199,
   "metadata": {
    "collapsed": false
   },
   "outputs": [
    {
     "name": "stdout",
     "output_type": "stream",
     "text": [
      "aaaaau\n"
     ]
    }
   ],
   "source": [
    "# Set RA, Dec for a single point in the sky. in radians.\n",
    "#ra = np.radians(0.)\n",
    "#dec = np.radians(0.)\n",
    "#ra = np.radians(240.012) #pos1\n",
    "#dec = np.radians(-61.8795)\n",
    "#ra = np.radians(349.386) #pos2\n",
    "#dec = np.radians(-63.321)\n",
    "#ra = np.radians(349.386) #deep1\n",
    "#dec = np.radians(-63.32100)\n",
    "#ra = np.radians(190) #pos3\n",
    "#dec = np.radians(-83)\n",
    "#ra = np.radians(20) #pos4\n",
    "#dec = np.radians(-83)\n",
    "#ra = np.radians(80) #pos5\n",
    "#dec = np.radians(-40)\n",
    "#ra = np.radians(120) #pos5a\n",
    "#dec = np.radians(-50)\n",
    "#ra = np.radians(280) #pos6\n",
    "#dec = np.radians(-40)\n",
    "#ra = np.radians(30.00) #pos7\n",
    "#dec = np.radians(-20.00)\n",
    "#ra = np.radians(100) #pos8\n",
    "#dec = np.radians(-20)\n",
    "#ra = np.radians(50.00) #pos9\n",
    "#dec = np.radians(1.5)\n",
    "#ra = np.radians(330.00) #pos10\n",
    "#dec = np.radians(+1.5)\n",
    "#ra = np.radians(190.00) #pos11 (not good)\n",
    "#dec = np.radians(20.00)\n",
    "#ra = np.radians(320.00) #pos11a  (N spur)\n",
    "#dec = np.radians(5.00)\n",
    "#ra = np.radians(60) #pos11b \n",
    "#dec = np.radians(5.00)\n",
    "#ra = np.radians(60) #pos11c \n",
    "#dec = np.radians(10.00)\n",
    "ra = np.radians(320) #pos11d (not good)\n",
    "dec = np.radians(10.00)\n",
    "#ra = np.radians(60) #pos14a\n",
    "#dec = np.radians(30.00)\n",
    "#ra = np.radians(10.00) #pos12\n",
    "#dec = np.radians(+20.0)\n",
    "# SNR limit (Don't use points below this limit)\n",
    "snrLimit = 5.\n",
    "# Demand this many points above SNR limit before plotting LC\n",
    "nPtsLimit = 6\n",
    "print 'aaaaau'"
   ]
  },
  {
   "cell_type": "code",
   "execution_count": 200,
   "metadata": {
    "collapsed": false
   },
   "outputs": [
    {
     "name": "stdout",
     "output_type": "stream",
     "text": [
      "testtest\n",
      "testtest5\n"
     ]
    }
   ],
   "source": [
    "# The pass metric just passes data straight through.\n",
    "metric = metrics.PassMetric(cols=['filter','fiveSigmaDepth','expMJD'])\n",
    "slicer = slicers.UserPointsSlicer(ra,dec,lonCol='ditheredRA',latCol='ditheredDec')\n",
    "sql = 'night < 365'\n",
    "bundle = metricBundles.MetricBundle(metric,slicer,sql)\n",
    "bg =  metricBundles.MetricBundleGroup({0:bundle}, opsimdb,\n",
    "                                      outDir=outDir, resultsDb=resultsDb)\n",
    "print 'testtest'\n",
    "print 'testtest5'"
   ]
  },
  {
   "cell_type": "code",
   "execution_count": 201,
   "metadata": {
    "collapsed": false,
    "scrolled": true
   },
   "outputs": [
    {
     "name": "stdout",
     "output_type": "stream",
     "text": [
      "test2\n",
      "Querying database with constraint night < 365\n",
      "Found 271946 visits\n",
      "Running:  [0]\n",
      "Completed metric generation.\n",
      "Running reduce methods.\n",
      "Running summary statistics.\n",
      "Completed.\n"
     ]
    }
   ],
   "source": [
    "print 'test2'\n",
    "bg.runAll()"
   ]
  },
  {
   "cell_type": "code",
   "execution_count": 202,
   "metadata": {
    "collapsed": false
   },
   "outputs": [
    {
     "ename": "TypeError",
     "evalue": "'NoneType' object has no attribute '__getitem__'",
     "output_type": "error",
     "traceback": [
      "\u001b[0;31m---------------------------------------------------------------------------\u001b[0m",
      "\u001b[0;31mTypeError\u001b[0m                                 Traceback (most recent call last)",
      "\u001b[0;32m<ipython-input-202-00b8d47aa3fb>\u001b[0m in \u001b[0;36m<module>\u001b[0;34m()\u001b[0m\n\u001b[0;32m----> 1\u001b[0;31m \u001b[0mbundle\u001b[0m\u001b[0;34m.\u001b[0m\u001b[0mmetricValues\u001b[0m\u001b[0;34m.\u001b[0m\u001b[0mdata\u001b[0m\u001b[0;34m[\u001b[0m\u001b[0;36m0\u001b[0m\u001b[0;34m]\u001b[0m\u001b[0;34m[\u001b[0m\u001b[0;34m'filter'\u001b[0m\u001b[0;34m]\u001b[0m\u001b[0;34m\u001b[0m\u001b[0m\n\u001b[0m\u001b[1;32m      2\u001b[0m \u001b[0;32mprint\u001b[0m \u001b[0;34m'test3'\u001b[0m\u001b[0;34m\u001b[0m\u001b[0m\n",
      "\u001b[0;31mTypeError\u001b[0m: 'NoneType' object has no attribute '__getitem__'"
     ]
    }
   ],
   "source": [
    "bundle.metricValues.data[0]['filter']\n",
    "print 'test3'"
   ]
  },
  {
   "cell_type": "code",
   "execution_count": 203,
   "metadata": {
    "collapsed": false
   },
   "outputs": [
    {
     "ename": "TypeError",
     "evalue": "'NoneType' object has no attribute '__getitem__'",
     "output_type": "error",
     "traceback": [
      "\u001b[0;31m---------------------------------------------------------------------------\u001b[0m",
      "\u001b[0;31mTypeError\u001b[0m                                 Traceback (most recent call last)",
      "\u001b[0;32m<ipython-input-203-0423f4ec1963>\u001b[0m in \u001b[0;36m<module>\u001b[0;34m()\u001b[0m\n\u001b[0;32m----> 1\u001b[0;31m \u001b[0mdayZero\u001b[0m \u001b[0;34m=\u001b[0m \u001b[0mbundle\u001b[0m\u001b[0;34m.\u001b[0m\u001b[0mmetricValues\u001b[0m\u001b[0;34m.\u001b[0m\u001b[0mdata\u001b[0m\u001b[0;34m[\u001b[0m\u001b[0;36m0\u001b[0m\u001b[0;34m]\u001b[0m\u001b[0;34m[\u001b[0m\u001b[0;34m'expMJD'\u001b[0m\u001b[0;34m]\u001b[0m\u001b[0;34m.\u001b[0m\u001b[0mmin\u001b[0m\u001b[0;34m(\u001b[0m\u001b[0;34m)\u001b[0m\u001b[0;34m\u001b[0m\u001b[0m\n\u001b[0m\u001b[1;32m      2\u001b[0m \u001b[0;32mprint\u001b[0m \u001b[0mdayZero\u001b[0m\u001b[0;34m\u001b[0m\u001b[0m\n\u001b[1;32m      3\u001b[0m \u001b[0;32mfor\u001b[0m \u001b[0mfname\u001b[0m \u001b[0;32min\u001b[0m \u001b[0mfilters\u001b[0m\u001b[0;34m:\u001b[0m\u001b[0;34m\u001b[0m\u001b[0m\n\u001b[1;32m      4\u001b[0m     \u001b[0mgood\u001b[0m \u001b[0;34m=\u001b[0m \u001b[0mnp\u001b[0m\u001b[0;34m.\u001b[0m\u001b[0mwhere\u001b[0m\u001b[0;34m(\u001b[0m\u001b[0mbundle\u001b[0m\u001b[0;34m.\u001b[0m\u001b[0mmetricValues\u001b[0m\u001b[0;34m.\u001b[0m\u001b[0mdata\u001b[0m\u001b[0;34m[\u001b[0m\u001b[0;36m0\u001b[0m\u001b[0;34m]\u001b[0m\u001b[0;34m[\u001b[0m\u001b[0;34m'filter'\u001b[0m\u001b[0;34m]\u001b[0m \u001b[0;34m==\u001b[0m \u001b[0mfname\u001b[0m\u001b[0;34m)\u001b[0m\u001b[0;34m\u001b[0m\u001b[0m\n\u001b[1;32m      5\u001b[0m     plt.scatter(bundle.metricValues.data[0]['expMJD'][good]- dayZero, \n",
      "\u001b[0;31mTypeError\u001b[0m: 'NoneType' object has no attribute '__getitem__'"
     ]
    }
   ],
   "source": [
    "dayZero = bundle.metricValues.data[0]['expMJD'].min()\n",
    "print dayZero\n",
    "for fname in filters:\n",
    "    good = np.where(bundle.metricValues.data[0]['filter'] == fname)\n",
    "    plt.scatter(bundle.metricValues.data[0]['expMJD'][good]- dayZero, \n",
    "                bundle.metricValues.data[0]['fiveSigmaDepth'][good],\n",
    "                c = colors[fname], label=fname)\n",
    "plt.xlabel('Day')\n",
    "plt.ylabel('5$\\sigma$ depth')\n",
    "plt.legend(scatterpoints=1, loc=\"upper left\", bbox_to_anchor=(1,1))\n",
    "print 'aau'"
   ]
  },
  {
   "cell_type": "code",
   "execution_count": 198,
   "metadata": {
    "collapsed": false
   },
   "outputs": [
    {
     "name": "stdout",
     "output_type": "stream",
     "text": [
      "80 Observations total at this point (All SNR levels)\n",
      "4 Observations in u\n",
      "7 Observations in g\n",
      "9 Observations in r\n",
      "18 Observations in i\n",
      "24 Observations in z\n",
      "18 Observations in y\n"
     ]
    }
   ],
   "source": [
    "print '%i Observations total at this point (All SNR levels)' % bundle.metricValues.data[0].size\n",
    "for fname in filters:\n",
    "    good = np.where(bundle.metricValues.data[0]['filter'] == fname)\n",
    "    print '%i Observations in %s' % (good[0].size, fname)"
   ]
  },
  {
   "cell_type": "code",
   "execution_count": 182,
   "metadata": {
    "collapsed": false
   },
   "outputs": [
    {
     "name": "stdout",
     "output_type": "stream",
     "text": [
      "uuu\n",
      "49551.434698\n"
     ]
    }
   ],
   "source": [
    "data = bundle.metricValues.data[0]\n",
    "peakTime = 15\n",
    "transDuration = peakTime+30 # Days\n",
    "#peaks = {'uPeak':25.9, 'gPeak':23.6, 'rPeak':22.6, 'iPeak':22.7, 'zPeak':22.7,'yPeak':22.8}\n",
    "peaks = {'uPeak':23.9, 'gPeak':23.6, 'rPeak':22.6, 'iPeak':22.7, 'zPeak':22.7,'yPeak':22.1}\n",
    "#peaks = {'uPeak':23.9, 'gPeak':25.0, 'rPeak':24.7, 'iPeak':24.0, 'zPeak':23.3,'yPeak':22.1}\n",
    "transMetric = metrics.TransientMetric(riseSlope= -2./peakTime, declineSlope=1.4/30.0, \n",
    "                                      transDuration=transDuration, peakTime=peakTime, \n",
    "                                      surveyDuration=10, **peaks)\n",
    "#print dayZero\n",
    "#dayZero = dayZero + 60\n",
    "lc = transMetric.lightCurve((data['expMJD']-dayZero) % transDuration, data['filter'])\n",
    "snr = utils.m52snr(lc,data['fiveSigmaDepth'])\n",
    "lc_err = 2.5*np.log10(1.+1./snr)\n",
    "print 'uuu'\n",
    "print dayZero"
   ]
  },
  {
   "cell_type": "markdown",
   "metadata": {},
   "source": []
  },
  {
   "cell_type": "code",
   "execution_count": 183,
   "metadata": {
    "collapsed": false
   },
   "outputs": [
    {
     "name": "stdout",
     "output_type": "stream",
     "text": [
      "0.0\n",
      "1.0\n",
      "2.0\n",
      "3.0\n",
      "4.0\n",
      "Fraction of LCs that meet criteria and plotted = 3/4\n",
      "auauu\n"
     ]
    },
    {
     "data": {
      "image/png": "[encoded data removed]",
      "text/plain": [
       "<matplotlib.figure.Figure at 0x1181c7f50>"
      ]
     },
     "metadata": {},
     "output_type": "display_data"
    },
    {
     "data": {
      "image/png": "[encoded data removed]",
      "text/plain": [
       "<matplotlib.figure.Figure at 0x114e835d0>"
      ]
     },
     "metadata": {},
     "output_type": "display_data"
    },
    {
     "data": {
      "image/png": "[encoded data removed]",
      "text/plain": [
       "<matplotlib.figure.Figure at 0x115ea2350>"
      ]
     },
     "metadata": {},
     "output_type": "display_data"
    }
   ],
   "source": [
    "numOfLCs = np.ceil((data['expMJD'].max()-data['expMJD'].min())/transDuration)\n",
    "plotCounter = 0\n",
    "nPtsLimit = 1\n",
    "for lcn in np.arange(0,numOfLCs+1,1):\n",
    "    print lcn\n",
    "    goodinTime = np.where(( data['expMJD'] >= data['expMJD'].min()+transDuration*lcn)\n",
    "                       & ( data['expMJD'] <= data['expMJD'].min()+transDuration*(1+lcn))\n",
    "                       & (snr > snrLimit))\n",
    "    if goodinTime[0].size >= nPtsLimit:\n",
    "        plotCounter += 1\n",
    "        plt.figure()\n",
    "        # Counter\n",
    "        numPoints = 0\n",
    "        for filterName in filters:\n",
    "            good = np.where((data['filter'] == filterName) & \n",
    "                            ( data['expMJD'] >= data['expMJD'].min()+transDuration*lcn)\n",
    "                           & ( data['expMJD'] <= data['expMJD'].min()+transDuration*(1+lcn))\n",
    "                           & (snr > snrLimit))\n",
    "            goodinTime = np.where(( data['expMJD'] >= data['expMJD'].min()+transDuration*lcn)\n",
    "                       & ( data['expMJD'] <= data['expMJD'].min()+transDuration*(1+lcn))\n",
    "                       & (data['filter'] == filterName))\n",
    "            plt.errorbar(data['expMJD'][good]-dayZero, lc[good], yerr=lc_err[good], \n",
    "                         c=colors[filterName], marker='o', linestyle='None')\n",
    "            plt.errorbar(data['expMJD'][goodinTime]-dayZero, lc[goodinTime], \n",
    "                         yerr=lc_err[goodinTime], \n",
    "                         c=colors[filterName], marker='o', linestyle='None')\n",
    "          \n",
    "            \n",
    "            numPoints += good[0].size\n",
    "        explodeDate=data['expMJD'].min()+transDuration*lcn\n",
    "        plt.xlim([explodeDate-dayZero,explodeDate+transDuration-dayZero])\n",
    "        plt.xlabel('day')\n",
    "        plt.ylabel('mag')\n",
    "        plt.title('light curve #%i, %i points in curve ' % (lcn, numPoints))\n",
    "        plt.ylim([25., 22.5])\n",
    "print 'Fraction of LCs that meet criteria and plotted = %i/%i' % (plotCounter, numOfLCs)\n",
    "print 'auauu'"
   ]
  },
  {
   "cell_type": "code",
   "execution_count": 184,
   "metadata": {
    "collapsed": false
   },
   "outputs": [
    {
     "data": {
      "text/plain": [
       "{'g': 'g', 'i': 'r', 'r': 'y', 'u': 'cyan', 'y': 'k', 'z': 'm'}"
      ]
     },
     "execution_count": 184,
     "metadata": {},
     "output_type": "execute_result"
    }
   ],
   "source": [
    "colors"
   ]
  },
  {
   "cell_type": "markdown",
   "metadata": {
    "collapsed": false
   },
   "source": [
    "Let's do it for something really bright, just to see all the points in the light curves"
   ]
  },
  {
   "cell_type": "code",
   "execution_count": 185,
   "metadata": {
    "collapsed": false
   },
   "outputs": [
    {
     "name": "stdout",
     "output_type": "stream",
     "text": [
      "testua\n"
     ]
    }
   ],
   "source": [
    "data = bundle.metricValues.data[0]\n",
    "peakTime = 15\n",
    "transDuration = peakTime+30 # Days\n",
    "peaks = {'uPeak':20, 'gPeak':20, 'rPeak':20, 'iPeak':20, 'zPeak':20,'yPeak':20}\n",
    "#peaks = {'uPeak':23.9, 'gPeak':25.0, 'rPeak':24.7, 'iPeak':24.0, 'zPeak':23.3,'yPeak':22.1}\n",
    "\n",
    "transMetric = metrics.TransientMetric(riseSlope= 0, declineSlope=0, \n",
    "                                      transDuration=transDuration, peakTime=peakTime, \n",
    "                                      surveyDuration=10, **peaks)\n",
    "lc = transMetric.lightCurve((data['expMJD']-dayZero) % transDuration, data['filter'])\n",
    "snr = utils.m52snr(lc,data['fiveSigmaDepth'])\n",
    "lc_err = 2.5*np.log10(1.+1./snr)\n",
    "print 'testua'"
   ]
  },
  {
   "cell_type": "code",
   "execution_count": 186,
   "metadata": {
    "collapsed": false,
    "scrolled": true
   },
   "outputs": [
    {
     "name": "stdout",
     "output_type": "stream",
     "text": [
      "Fraction of LCs that meet criteria and plotted = 4/4\n"
     ]
    },
    {
     "data": {
      "image/png": "[encoded data removed]",
      "text/plain": [
       "<matplotlib.figure.Figure at 0x117e51d50>"
      ]
     },
     "metadata": {},
     "output_type": "display_data"
    },
    {
     "data": {
      "image/png": "[encoded data removed]",
      "text/plain": [
       "<matplotlib.figure.Figure at 0x1042795d0>"
      ]
     },
     "metadata": {},
     "output_type": "display_data"
    },
    {
     "data": {
      "image/png": "[encoded data removed]",
      "text/plain": [
       "<matplotlib.figure.Figure at 0x117c7c0d0>"
      ]
     },
     "metadata": {},
     "output_type": "display_data"
    },
    {
     "data": {
      "image/png": "[encoded data removed]",
      "text/plain": [
       "<matplotlib.figure.Figure at 0x11baeb790>"
      ]
     },
     "metadata": {},
     "output_type": "display_data"
    }
   ],
   "source": [
    "numOfLCs = np.ceil((data['expMJD'].max()-data['expMJD'].min())/transDuration)\n",
    "plotCounter = 0\n",
    "for lcn in np.arange(0,numOfLCs+1,1):\n",
    "    good = np.where(( data['expMJD'] >= data['expMJD'].min()+transDuration*lcn)\n",
    "                       & ( data['expMJD'] <= data['expMJD'].min()+transDuration*(1+lcn))\n",
    "                       & (snr > snrLimit))\n",
    "    if good[0].size >= nPtsLimit:\n",
    "        plotCounter += 1\n",
    "        plt.figure()\n",
    "        # Counter\n",
    "        numPoints = 0\n",
    "        for filterName in filters:\n",
    "            # print filterName\n",
    "            good = np.where((data['filter'] == filterName) & \n",
    "                            ( data['expMJD'] >= data['expMJD'].min()+transDuration*lcn)\n",
    "                           & ( data['expMJD'] <= data['expMJD'].min()+transDuration*(1+lcn))\n",
    "                           & (snr > snrLimit))\n",
    "            plt.errorbar(data['expMJD'][good]-dayZero, lc[good], yerr=lc_err[good], \n",
    "                         c=colors[filterName], marker='o', linestyle='None')\n",
    "            numPoints += good[0].size\n",
    "        explodeDate=data['expMJD'].min()+transDuration*lcn\n",
    "        plt.xlim([explodeDate-dayZero,explodeDate+transDuration-dayZero])\n",
    "        plt.xlabel('day')\n",
    "        plt.ylabel('mag')\n",
    "        plt.title('light curve #%i, %i points in curve ' % (lcn, numPoints))\n",
    "print 'Fraction of LCs that meet criteria and plotted = %i/%i' % (plotCounter, numOfLCs)"
   ]
  },
  {
   "cell_type": "code",
   "execution_count": null,
   "metadata": {
    "collapsed": true
   },
   "outputs": [],
   "source": []
  },
  {
   "cell_type": "code",
   "execution_count": null,
   "metadata": {
    "collapsed": true
   },
   "outputs": [],
   "source": []
  },
  {
   "cell_type": "code",
   "execution_count": null,
   "metadata": {
    "collapsed": true
   },
   "outputs": [],
   "source": []
  }
 ],
 "metadata": {
  "kernelspec": {
   "display_name": "Python 2",
   "language": "python",
   "name": "python2"
  },
  "language_info": {
   "codemirror_mode": {
    "name": "ipython",
    "version": 2
   },
   "file_extension": ".py",
   "mimetype": "text/x-python",
   "name": "python",
   "nbconvert_exporter": "python",
   "pygments_lexer": "ipython2",
   "version": "2.7.10"
  }
 },
 "nbformat": 4,
 "nbformat_minor": 0
}
